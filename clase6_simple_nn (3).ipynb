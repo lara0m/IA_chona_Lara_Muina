{
 "cells": [
  {
   "cell_type": "code",
   "execution_count": 70,
   "id": "98e408bf",
   "metadata": {},
   "outputs": [
    {
     "name": "stdout",
     "output_type": "stream",
     "text": [
      "🚀 Notebook configurado - usar solo gráficos de texto\n",
      "📊 Esto evita todos los errores de matplotlib\n",
      "Error in callback <function _enable_matplotlib_integration.<locals>.configure_once at 0x0000021D6934DA80> (for post_run_cell), with arguments args (<ExecutionResult object at 21d6a1b0290, execution_count=70 error_before_exec=None error_in_exec=None info=<ExecutionInfo object at 21d6a1b0830, raw_cell=\"# SOLUCIÓN DEFINITIVA: Desactivar matplotlib para ..\" store_history=True silent=False shell_futures=True cell_id=vscode-notebook-cell:/c%3A/Users/larit/OneDrive/Documentos/GitHub/IA_chona_Lara_Muina/clase6_simple_nn%20%283%29.ipynb#X31sZmlsZQ%3D%3D> result=None>,),kwargs {}:\n"
     ]
    },
    {
     "ename": "AttributeError",
     "evalue": "module 'matplotlib' has no attribute 'backends'",
     "output_type": "error",
     "traceback": [
      "\u001b[31m---------------------------------------------------------------------------\u001b[39m",
      "\u001b[31mAttributeError\u001b[39m                            Traceback (most recent call last)",
      "\u001b[36mFile \u001b[39m\u001b[32m~\\AppData\\Roaming\\Python\\Python312\\site-packages\\matplotlib_inline\\backend_inline.py:222\u001b[39m, in \u001b[36m_enable_matplotlib_integration.<locals>.configure_once\u001b[39m\u001b[34m(*args)\u001b[39m\n\u001b[32m    221\u001b[39m \u001b[38;5;28;01mdef\u001b[39;00m\u001b[38;5;250m \u001b[39m\u001b[34mconfigure_once\u001b[39m(*args):\n\u001b[32m--> \u001b[39m\u001b[32m222\u001b[39m     \u001b[43mactivate_matplotlib\u001b[49m\u001b[43m(\u001b[49m\u001b[43mbackend\u001b[49m\u001b[43m)\u001b[49m\n\u001b[32m    223\u001b[39m     configure_inline_support(ip, backend)\n\u001b[32m    224\u001b[39m     ip.events.unregister(\u001b[33m'\u001b[39m\u001b[33mpost_run_cell\u001b[39m\u001b[33m'\u001b[39m, configure_once)\n",
      "\u001b[36mFile \u001b[39m\u001b[32m~\\AppData\\Roaming\\Python\\Python312\\site-packages\\IPython\\core\\pylabtools.py:410\u001b[39m, in \u001b[36mactivate_matplotlib\u001b[39m\u001b[34m(backend)\u001b[39m\n\u001b[32m    405\u001b[39m \u001b[38;5;66;03m# Due to circular imports, pyplot may be only partially initialised\u001b[39;00m\n\u001b[32m    406\u001b[39m \u001b[38;5;66;03m# when this function runs.\u001b[39;00m\n\u001b[32m    407\u001b[39m \u001b[38;5;66;03m# So avoid needing matplotlib attribute-lookup to access pyplot.\u001b[39;00m\n\u001b[32m    408\u001b[39m \u001b[38;5;28;01mfrom\u001b[39;00m\u001b[38;5;250m \u001b[39m\u001b[34;01mmatplotlib\u001b[39;00m\u001b[38;5;250m \u001b[39m\u001b[38;5;28;01mimport\u001b[39;00m pyplot \u001b[38;5;28;01mas\u001b[39;00m plt\n\u001b[32m--> \u001b[39m\u001b[32m410\u001b[39m \u001b[43mplt\u001b[49m\u001b[43m.\u001b[49m\u001b[43mswitch_backend\u001b[49m\u001b[43m(\u001b[49m\u001b[43mbackend\u001b[49m\u001b[43m)\u001b[49m\n\u001b[32m    412\u001b[39m plt.show._needmain = \u001b[38;5;28;01mFalse\u001b[39;00m\n\u001b[32m    413\u001b[39m \u001b[38;5;66;03m# We need to detect at runtime whether show() is called by the user.\u001b[39;00m\n\u001b[32m    414\u001b[39m \u001b[38;5;66;03m# For this, we wrap it into a decorator which adds a 'called' flag.\u001b[39;00m\n",
      "\u001b[36mFile \u001b[39m\u001b[32mc:\\Users\\larit\\AppData\\Local\\Programs\\Python\\Python312\\Lib\\site-packages\\matplotlib\\pyplot.py:520\u001b[39m, in \u001b[36mswitch_backend\u001b[39m\u001b[34m(newbackend)\u001b[39m\n\u001b[32m    515\u001b[39m     \u001b[38;5;28mglobals\u001b[39m()[func_name].__signature__ = inspect.signature(\n\u001b[32m    516\u001b[39m         \u001b[38;5;28mgetattr\u001b[39m(backend_mod, func_name))\n\u001b[32m    518\u001b[39m \u001b[38;5;66;03m# Need to keep a global reference to the backend for compatibility reasons.\u001b[39;00m\n\u001b[32m    519\u001b[39m \u001b[38;5;66;03m# See https://github.com/matplotlib/matplotlib/issues/6092\u001b[39;00m\n\u001b[32m--> \u001b[39m\u001b[32m520\u001b[39m \u001b[43mmatplotlib\u001b[49m\u001b[43m.\u001b[49m\u001b[43mbackends\u001b[49m.backend = newbackend  \u001b[38;5;66;03m# type: ignore[attr-defined]\u001b[39;00m\n\u001b[32m    522\u001b[39m \u001b[38;5;66;03m# Make sure the repl display hook is installed in case we become interactive.\u001b[39;00m\n\u001b[32m    523\u001b[39m install_repl_displayhook()\n",
      "\u001b[36mFile \u001b[39m\u001b[32mc:\\Users\\larit\\AppData\\Local\\Programs\\Python\\Python312\\Lib\\site-packages\\matplotlib\\_api\\__init__.py:218\u001b[39m, in \u001b[36mcaching_module_getattr.<locals>.__getattr__\u001b[39m\u001b[34m(name)\u001b[39m\n\u001b[32m    216\u001b[39m \u001b[38;5;28;01mif\u001b[39;00m name \u001b[38;5;129;01min\u001b[39;00m props:\n\u001b[32m    217\u001b[39m     \u001b[38;5;28;01mreturn\u001b[39;00m props[name].\u001b[34m__get__\u001b[39m(instance)\n\u001b[32m--> \u001b[39m\u001b[32m218\u001b[39m \u001b[38;5;28;01mraise\u001b[39;00m \u001b[38;5;167;01mAttributeError\u001b[39;00m(\n\u001b[32m    219\u001b[39m     \u001b[33mf\u001b[39m\u001b[33m\"\u001b[39m\u001b[33mmodule \u001b[39m\u001b[38;5;132;01m{\u001b[39;00m\u001b[38;5;28mcls\u001b[39m.\u001b[34m__module__\u001b[39m\u001b[38;5;132;01m!r}\u001b[39;00m\u001b[33m has no attribute \u001b[39m\u001b[38;5;132;01m{\u001b[39;00mname\u001b[38;5;132;01m!r}\u001b[39;00m\u001b[33m\"\u001b[39m)\n",
      "\u001b[31mAttributeError\u001b[39m: module 'matplotlib' has no attribute 'backends'"
     ]
    }
   ],
   "source": [
    "# SOLUCIÓN DEFINITIVA: Desactivar matplotlib para evitar errores\n",
    "import os\n",
    "import sys\n",
    "\n",
    "# Desactivar matplotlib inline completamente\n",
    "try:\n",
    "    from IPython import get_ipython\n",
    "    ip = get_ipython()\n",
    "    if ip:\n",
    "        ip.magic('matplotlib off')\n",
    "        print(\"✅ Matplotlib inline desactivado\")\n",
    "except:\n",
    "    pass\n",
    "\n",
    "# Configurar para que no use matplotlib\n",
    "os.environ['MPLBACKEND'] = 'Agg'\n",
    "\n",
    "print(\"🚀 Notebook configurado - usar solo gráficos de texto\")\n",
    "print(\"📊 Esto evita todos los errores de matplotlib\")"
   ]
  },
  {
   "cell_type": "code",
   "execution_count": 71,
   "id": "b69a9be1",
   "metadata": {},
   "outputs": [
    {
     "name": "stdout",
     "output_type": "stream",
     "text": [
      "✅ Función de gráfico lista para usar\n",
      "Error in callback <function _enable_matplotlib_integration.<locals>.configure_once at 0x0000021D6934DA80> (for post_run_cell), with arguments args (<ExecutionResult object at 21d66f191f0, execution_count=71 error_before_exec=None error_in_exec=None info=<ExecutionInfo object at 21d66f19880, raw_cell=\"# GRÁFICO GARANTIZADO SIN ERRORES\n",
      "def plot_sin_err..\" store_history=True silent=False shell_futures=True cell_id=vscode-notebook-cell:/c%3A/Users/larit/OneDrive/Documentos/GitHub/IA_chona_Lara_Muina/clase6_simple_nn%20%283%29.ipynb#X32sZmlsZQ%3D%3D> result=None>,),kwargs {}:\n"
     ]
    },
    {
     "ename": "AttributeError",
     "evalue": "module 'matplotlib' has no attribute 'backends'",
     "output_type": "error",
     "traceback": [
      "\u001b[31m---------------------------------------------------------------------------\u001b[39m",
      "\u001b[31mAttributeError\u001b[39m                            Traceback (most recent call last)",
      "\u001b[36mFile \u001b[39m\u001b[32m~\\AppData\\Roaming\\Python\\Python312\\site-packages\\matplotlib_inline\\backend_inline.py:222\u001b[39m, in \u001b[36m_enable_matplotlib_integration.<locals>.configure_once\u001b[39m\u001b[34m(*args)\u001b[39m\n\u001b[32m    221\u001b[39m \u001b[38;5;28;01mdef\u001b[39;00m\u001b[38;5;250m \u001b[39m\u001b[34mconfigure_once\u001b[39m(*args):\n\u001b[32m--> \u001b[39m\u001b[32m222\u001b[39m     \u001b[43mactivate_matplotlib\u001b[49m\u001b[43m(\u001b[49m\u001b[43mbackend\u001b[49m\u001b[43m)\u001b[49m\n\u001b[32m    223\u001b[39m     configure_inline_support(ip, backend)\n\u001b[32m    224\u001b[39m     ip.events.unregister(\u001b[33m'\u001b[39m\u001b[33mpost_run_cell\u001b[39m\u001b[33m'\u001b[39m, configure_once)\n",
      "\u001b[36mFile \u001b[39m\u001b[32m~\\AppData\\Roaming\\Python\\Python312\\site-packages\\IPython\\core\\pylabtools.py:410\u001b[39m, in \u001b[36mactivate_matplotlib\u001b[39m\u001b[34m(backend)\u001b[39m\n\u001b[32m    405\u001b[39m \u001b[38;5;66;03m# Due to circular imports, pyplot may be only partially initialised\u001b[39;00m\n\u001b[32m    406\u001b[39m \u001b[38;5;66;03m# when this function runs.\u001b[39;00m\n\u001b[32m    407\u001b[39m \u001b[38;5;66;03m# So avoid needing matplotlib attribute-lookup to access pyplot.\u001b[39;00m\n\u001b[32m    408\u001b[39m \u001b[38;5;28;01mfrom\u001b[39;00m\u001b[38;5;250m \u001b[39m\u001b[34;01mmatplotlib\u001b[39;00m\u001b[38;5;250m \u001b[39m\u001b[38;5;28;01mimport\u001b[39;00m pyplot \u001b[38;5;28;01mas\u001b[39;00m plt\n\u001b[32m--> \u001b[39m\u001b[32m410\u001b[39m \u001b[43mplt\u001b[49m\u001b[43m.\u001b[49m\u001b[43mswitch_backend\u001b[49m\u001b[43m(\u001b[49m\u001b[43mbackend\u001b[49m\u001b[43m)\u001b[49m\n\u001b[32m    412\u001b[39m plt.show._needmain = \u001b[38;5;28;01mFalse\u001b[39;00m\n\u001b[32m    413\u001b[39m \u001b[38;5;66;03m# We need to detect at runtime whether show() is called by the user.\u001b[39;00m\n\u001b[32m    414\u001b[39m \u001b[38;5;66;03m# For this, we wrap it into a decorator which adds a 'called' flag.\u001b[39;00m\n",
      "\u001b[36mFile \u001b[39m\u001b[32mc:\\Users\\larit\\AppData\\Local\\Programs\\Python\\Python312\\Lib\\site-packages\\matplotlib\\pyplot.py:520\u001b[39m, in \u001b[36mswitch_backend\u001b[39m\u001b[34m(newbackend)\u001b[39m\n\u001b[32m    515\u001b[39m     \u001b[38;5;28mglobals\u001b[39m()[func_name].__signature__ = inspect.signature(\n\u001b[32m    516\u001b[39m         \u001b[38;5;28mgetattr\u001b[39m(backend_mod, func_name))\n\u001b[32m    518\u001b[39m \u001b[38;5;66;03m# Need to keep a global reference to the backend for compatibility reasons.\u001b[39;00m\n\u001b[32m    519\u001b[39m \u001b[38;5;66;03m# See https://github.com/matplotlib/matplotlib/issues/6092\u001b[39;00m\n\u001b[32m--> \u001b[39m\u001b[32m520\u001b[39m \u001b[43mmatplotlib\u001b[49m\u001b[43m.\u001b[49m\u001b[43mbackends\u001b[49m.backend = newbackend  \u001b[38;5;66;03m# type: ignore[attr-defined]\u001b[39;00m\n\u001b[32m    522\u001b[39m \u001b[38;5;66;03m# Make sure the repl display hook is installed in case we become interactive.\u001b[39;00m\n\u001b[32m    523\u001b[39m install_repl_displayhook()\n",
      "\u001b[36mFile \u001b[39m\u001b[32mc:\\Users\\larit\\AppData\\Local\\Programs\\Python\\Python312\\Lib\\site-packages\\matplotlib\\_api\\__init__.py:218\u001b[39m, in \u001b[36mcaching_module_getattr.<locals>.__getattr__\u001b[39m\u001b[34m(name)\u001b[39m\n\u001b[32m    216\u001b[39m \u001b[38;5;28;01mif\u001b[39;00m name \u001b[38;5;129;01min\u001b[39;00m props:\n\u001b[32m    217\u001b[39m     \u001b[38;5;28;01mreturn\u001b[39;00m props[name].\u001b[34m__get__\u001b[39m(instance)\n\u001b[32m--> \u001b[39m\u001b[32m218\u001b[39m \u001b[38;5;28;01mraise\u001b[39;00m \u001b[38;5;167;01mAttributeError\u001b[39;00m(\n\u001b[32m    219\u001b[39m     \u001b[33mf\u001b[39m\u001b[33m\"\u001b[39m\u001b[33mmodule \u001b[39m\u001b[38;5;132;01m{\u001b[39;00m\u001b[38;5;28mcls\u001b[39m.\u001b[34m__module__\u001b[39m\u001b[38;5;132;01m!r}\u001b[39;00m\u001b[33m has no attribute \u001b[39m\u001b[38;5;132;01m{\u001b[39;00mname\u001b[38;5;132;01m!r}\u001b[39;00m\u001b[33m\"\u001b[39m)\n",
      "\u001b[31mAttributeError\u001b[39m: module 'matplotlib' has no attribute 'backends'"
     ]
    }
   ],
   "source": [
    "# GRÁFICO GARANTIZADO SIN ERRORES\n",
    "def plot_sin_errores(errores):\n",
    "    print(\"\\n\" + \"=\"*60)\n",
    "    print(\"📈 EVOLUCIÓN DEL ERROR DE ENTRENAMIENTO\")\n",
    "    print(\"=\"*60)\n",
    "    \n",
    "    # Estadísticas clave\n",
    "    inicial = errores[0]\n",
    "    final = errores[-1]\n",
    "    mejora = ((inicial - final) / inicial) * 100\n",
    "    \n",
    "    print(f\"📊 RESULTADOS:\")\n",
    "    print(f\"   🔴 Error inicial:  {inicial:.6f}\")\n",
    "    print(f\"   🟢 Error final:    {final:.6f}\")\n",
    "    print(f\"   📉 Mejora total:   {mejora:.1f}%\")\n",
    "    print(f\"   🔄 Épocas:         {len(errores)}\")\n",
    "    \n",
    "    # Gráfico simple pero efectivo\n",
    "    print(f\"\\n📈 PROGRESO POR CUARTOS:\")\n",
    "    puntos = [0, len(errores)//4, len(errores)//2, 3*len(errores)//4, len(errores)-1]\n",
    "    etiquetas = [\"Inicio\", \"25%\", \"50%\", \"75%\", \"Final\"]\n",
    "    \n",
    "    for i, (punto, etiqueta) in enumerate(zip(puntos, etiquetas)):\n",
    "        error_actual = errores[punto]\n",
    "        mejora_actual = ((inicial - error_actual) / inicial) * 100\n",
    "        # Crear barra visual\n",
    "        barra_len = int(mejora_actual / 5)  # Escala de 0-20 caracteres\n",
    "        barra = \"█\" * barra_len + \"░\" * (20 - barra_len)\n",
    "        print(f\"   {etiqueta:6} │ {error_actual:.6f} │ {barra} │ {mejora_actual:5.1f}%\")\n",
    "    \n",
    "    print(f\"\\n🎯 ANÁLISIS:\")\n",
    "    if final < 0.01:\n",
    "        print(\"   ✅ ¡Excelente! Error muy bajo - la red aprendió bien\")\n",
    "    elif final < 0.05:\n",
    "        print(\"   ✅ ¡Muy bien! Error aceptable - buen aprendizaje\")\n",
    "    elif final < 0.1:\n",
    "        print(\"   ⚠️  Error moderado - podría necesitar más entrenamiento\")\n",
    "    else:\n",
    "        print(\"   ❌ Error alto - revisar parámetros o datos\")\n",
    "    \n",
    "    print(\"=\"*60)\n",
    "\n",
    "# Esta función SIEMPRE funciona, sin importar el estado de matplotlib\n",
    "print(\"✅ Función de gráfico lista para usar\")"
   ]
  },
  {
   "cell_type": "code",
   "execution_count": 72,
   "id": "682a0eea",
   "metadata": {},
   "outputs": [
    {
     "name": "stdout",
     "output_type": "stream",
     "text": [
      "Error in callback <function _enable_matplotlib_integration.<locals>.configure_once at 0x0000021D6934DA80> (for post_run_cell), with arguments args (<ExecutionResult object at 21d6a279400, execution_count=72 error_before_exec=None error_in_exec=None info=<ExecutionInfo object at 21d6a27b3b0, raw_cell=\"import numpy as np\" store_history=True silent=False shell_futures=True cell_id=vscode-notebook-cell:/c%3A/Users/larit/OneDrive/Documentos/GitHub/IA_chona_Lara_Muina/clase6_simple_nn%20%283%29.ipynb#W0sZmlsZQ%3D%3D> result=None>,),kwargs {}:\n"
     ]
    },
    {
     "ename": "AttributeError",
     "evalue": "module 'matplotlib' has no attribute 'backends'",
     "output_type": "error",
     "traceback": [
      "\u001b[31m---------------------------------------------------------------------------\u001b[39m",
      "\u001b[31mAttributeError\u001b[39m                            Traceback (most recent call last)",
      "\u001b[36mFile \u001b[39m\u001b[32m~\\AppData\\Roaming\\Python\\Python312\\site-packages\\matplotlib_inline\\backend_inline.py:222\u001b[39m, in \u001b[36m_enable_matplotlib_integration.<locals>.configure_once\u001b[39m\u001b[34m(*args)\u001b[39m\n\u001b[32m    221\u001b[39m \u001b[38;5;28;01mdef\u001b[39;00m\u001b[38;5;250m \u001b[39m\u001b[34mconfigure_once\u001b[39m(*args):\n\u001b[32m--> \u001b[39m\u001b[32m222\u001b[39m     \u001b[43mactivate_matplotlib\u001b[49m\u001b[43m(\u001b[49m\u001b[43mbackend\u001b[49m\u001b[43m)\u001b[49m\n\u001b[32m    223\u001b[39m     configure_inline_support(ip, backend)\n\u001b[32m    224\u001b[39m     ip.events.unregister(\u001b[33m'\u001b[39m\u001b[33mpost_run_cell\u001b[39m\u001b[33m'\u001b[39m, configure_once)\n",
      "\u001b[36mFile \u001b[39m\u001b[32m~\\AppData\\Roaming\\Python\\Python312\\site-packages\\IPython\\core\\pylabtools.py:410\u001b[39m, in \u001b[36mactivate_matplotlib\u001b[39m\u001b[34m(backend)\u001b[39m\n\u001b[32m    405\u001b[39m \u001b[38;5;66;03m# Due to circular imports, pyplot may be only partially initialised\u001b[39;00m\n\u001b[32m    406\u001b[39m \u001b[38;5;66;03m# when this function runs.\u001b[39;00m\n\u001b[32m    407\u001b[39m \u001b[38;5;66;03m# So avoid needing matplotlib attribute-lookup to access pyplot.\u001b[39;00m\n\u001b[32m    408\u001b[39m \u001b[38;5;28;01mfrom\u001b[39;00m\u001b[38;5;250m \u001b[39m\u001b[34;01mmatplotlib\u001b[39;00m\u001b[38;5;250m \u001b[39m\u001b[38;5;28;01mimport\u001b[39;00m pyplot \u001b[38;5;28;01mas\u001b[39;00m plt\n\u001b[32m--> \u001b[39m\u001b[32m410\u001b[39m \u001b[43mplt\u001b[49m\u001b[43m.\u001b[49m\u001b[43mswitch_backend\u001b[49m\u001b[43m(\u001b[49m\u001b[43mbackend\u001b[49m\u001b[43m)\u001b[49m\n\u001b[32m    412\u001b[39m plt.show._needmain = \u001b[38;5;28;01mFalse\u001b[39;00m\n\u001b[32m    413\u001b[39m \u001b[38;5;66;03m# We need to detect at runtime whether show() is called by the user.\u001b[39;00m\n\u001b[32m    414\u001b[39m \u001b[38;5;66;03m# For this, we wrap it into a decorator which adds a 'called' flag.\u001b[39;00m\n",
      "\u001b[36mFile \u001b[39m\u001b[32mc:\\Users\\larit\\AppData\\Local\\Programs\\Python\\Python312\\Lib\\site-packages\\matplotlib\\pyplot.py:520\u001b[39m, in \u001b[36mswitch_backend\u001b[39m\u001b[34m(newbackend)\u001b[39m\n\u001b[32m    515\u001b[39m     \u001b[38;5;28mglobals\u001b[39m()[func_name].__signature__ = inspect.signature(\n\u001b[32m    516\u001b[39m         \u001b[38;5;28mgetattr\u001b[39m(backend_mod, func_name))\n\u001b[32m    518\u001b[39m \u001b[38;5;66;03m# Need to keep a global reference to the backend for compatibility reasons.\u001b[39;00m\n\u001b[32m    519\u001b[39m \u001b[38;5;66;03m# See https://github.com/matplotlib/matplotlib/issues/6092\u001b[39;00m\n\u001b[32m--> \u001b[39m\u001b[32m520\u001b[39m \u001b[43mmatplotlib\u001b[49m\u001b[43m.\u001b[49m\u001b[43mbackends\u001b[49m.backend = newbackend  \u001b[38;5;66;03m# type: ignore[attr-defined]\u001b[39;00m\n\u001b[32m    522\u001b[39m \u001b[38;5;66;03m# Make sure the repl display hook is installed in case we become interactive.\u001b[39;00m\n\u001b[32m    523\u001b[39m install_repl_displayhook()\n",
      "\u001b[36mFile \u001b[39m\u001b[32mc:\\Users\\larit\\AppData\\Local\\Programs\\Python\\Python312\\Lib\\site-packages\\matplotlib\\_api\\__init__.py:218\u001b[39m, in \u001b[36mcaching_module_getattr.<locals>.__getattr__\u001b[39m\u001b[34m(name)\u001b[39m\n\u001b[32m    216\u001b[39m \u001b[38;5;28;01mif\u001b[39;00m name \u001b[38;5;129;01min\u001b[39;00m props:\n\u001b[32m    217\u001b[39m     \u001b[38;5;28;01mreturn\u001b[39;00m props[name].\u001b[34m__get__\u001b[39m(instance)\n\u001b[32m--> \u001b[39m\u001b[32m218\u001b[39m \u001b[38;5;28;01mraise\u001b[39;00m \u001b[38;5;167;01mAttributeError\u001b[39;00m(\n\u001b[32m    219\u001b[39m     \u001b[33mf\u001b[39m\u001b[33m\"\u001b[39m\u001b[33mmodule \u001b[39m\u001b[38;5;132;01m{\u001b[39;00m\u001b[38;5;28mcls\u001b[39m.\u001b[34m__module__\u001b[39m\u001b[38;5;132;01m!r}\u001b[39;00m\u001b[33m has no attribute \u001b[39m\u001b[38;5;132;01m{\u001b[39;00mname\u001b[38;5;132;01m!r}\u001b[39;00m\u001b[33m\"\u001b[39m)\n",
      "\u001b[31mAttributeError\u001b[39m: module 'matplotlib' has no attribute 'backends'"
     ]
    }
   ],
   "source": [
    "import numpy as np"
   ]
  },
  {
   "cell_type": "markdown",
   "id": "5cba8231",
   "metadata": {},
   "source": [
    "# Simple Neural Network, hagamoslo de cero!\n",
    "\n",
    "Recuerdo: definimos X como la matriz de entradas (features) e Y como la matriz de salidas esperadas (targets)."
   ]
  },
  {
   "cell_type": "code",
   "execution_count": 73,
   "id": "18710344",
   "metadata": {},
   "outputs": [
    {
     "name": "stdout",
     "output_type": "stream",
     "text": [
      "Error in callback <function _enable_matplotlib_integration.<locals>.configure_once at 0x0000021D6934DA80> (for post_run_cell), with arguments args (<ExecutionResult object at 21d6a133bf0, execution_count=73 error_before_exec=None error_in_exec=None info=<ExecutionInfo object at 21d6a132390, raw_cell=\"X = np.array([\n",
      "    [0,0,1],\n",
      "    [1,1,1],\n",
      "    [1,0,..\" store_history=True silent=False shell_futures=True cell_id=vscode-notebook-cell:/c%3A/Users/larit/OneDrive/Documentos/GitHub/IA_chona_Lara_Muina/clase6_simple_nn%20%283%29.ipynb#W2sZmlsZQ%3D%3D> result=None>,),kwargs {}:\n"
     ]
    },
    {
     "name": "stdout",
     "output_type": "stream",
     "text": [
      "Error in callback <function _enable_matplotlib_integration.<locals>.configure_once at 0x0000021D6934DA80> (for post_run_cell), with arguments args (<ExecutionResult object at 21d6a133bf0, execution_count=73 error_before_exec=None error_in_exec=None info=<ExecutionInfo object at 21d6a132390, raw_cell=\"X = np.array([\n",
      "    [0,0,1],\n",
      "    [1,1,1],\n",
      "    [1,0,..\" store_history=True silent=False shell_futures=True cell_id=vscode-notebook-cell:/c%3A/Users/larit/OneDrive/Documentos/GitHub/IA_chona_Lara_Muina/clase6_simple_nn%20%283%29.ipynb#W2sZmlsZQ%3D%3D> result=None>,),kwargs {}:\n"
     ]
    },
    {
     "ename": "AttributeError",
     "evalue": "module 'matplotlib' has no attribute 'backends'",
     "output_type": "error",
     "traceback": [
      "\u001b[31m---------------------------------------------------------------------------\u001b[39m",
      "\u001b[31mAttributeError\u001b[39m                            Traceback (most recent call last)",
      "\u001b[36mFile \u001b[39m\u001b[32m~\\AppData\\Roaming\\Python\\Python312\\site-packages\\matplotlib_inline\\backend_inline.py:222\u001b[39m, in \u001b[36m_enable_matplotlib_integration.<locals>.configure_once\u001b[39m\u001b[34m(*args)\u001b[39m\n\u001b[32m    221\u001b[39m \u001b[38;5;28;01mdef\u001b[39;00m\u001b[38;5;250m \u001b[39m\u001b[34mconfigure_once\u001b[39m(*args):\n\u001b[32m--> \u001b[39m\u001b[32m222\u001b[39m     \u001b[43mactivate_matplotlib\u001b[49m\u001b[43m(\u001b[49m\u001b[43mbackend\u001b[49m\u001b[43m)\u001b[49m\n\u001b[32m    223\u001b[39m     configure_inline_support(ip, backend)\n\u001b[32m    224\u001b[39m     ip.events.unregister(\u001b[33m'\u001b[39m\u001b[33mpost_run_cell\u001b[39m\u001b[33m'\u001b[39m, configure_once)\n",
      "\u001b[36mFile \u001b[39m\u001b[32m~\\AppData\\Roaming\\Python\\Python312\\site-packages\\IPython\\core\\pylabtools.py:410\u001b[39m, in \u001b[36mactivate_matplotlib\u001b[39m\u001b[34m(backend)\u001b[39m\n\u001b[32m    405\u001b[39m \u001b[38;5;66;03m# Due to circular imports, pyplot may be only partially initialised\u001b[39;00m\n\u001b[32m    406\u001b[39m \u001b[38;5;66;03m# when this function runs.\u001b[39;00m\n\u001b[32m    407\u001b[39m \u001b[38;5;66;03m# So avoid needing matplotlib attribute-lookup to access pyplot.\u001b[39;00m\n\u001b[32m    408\u001b[39m \u001b[38;5;28;01mfrom\u001b[39;00m\u001b[38;5;250m \u001b[39m\u001b[34;01mmatplotlib\u001b[39;00m\u001b[38;5;250m \u001b[39m\u001b[38;5;28;01mimport\u001b[39;00m pyplot \u001b[38;5;28;01mas\u001b[39;00m plt\n\u001b[32m--> \u001b[39m\u001b[32m410\u001b[39m \u001b[43mplt\u001b[49m\u001b[43m.\u001b[49m\u001b[43mswitch_backend\u001b[49m\u001b[43m(\u001b[49m\u001b[43mbackend\u001b[49m\u001b[43m)\u001b[49m\n\u001b[32m    412\u001b[39m plt.show._needmain = \u001b[38;5;28;01mFalse\u001b[39;00m\n\u001b[32m    413\u001b[39m \u001b[38;5;66;03m# We need to detect at runtime whether show() is called by the user.\u001b[39;00m\n\u001b[32m    414\u001b[39m \u001b[38;5;66;03m# For this, we wrap it into a decorator which adds a 'called' flag.\u001b[39;00m\n",
      "\u001b[36mFile \u001b[39m\u001b[32mc:\\Users\\larit\\AppData\\Local\\Programs\\Python\\Python312\\Lib\\site-packages\\matplotlib\\pyplot.py:520\u001b[39m, in \u001b[36mswitch_backend\u001b[39m\u001b[34m(newbackend)\u001b[39m\n\u001b[32m    515\u001b[39m     \u001b[38;5;28mglobals\u001b[39m()[func_name].__signature__ = inspect.signature(\n\u001b[32m    516\u001b[39m         \u001b[38;5;28mgetattr\u001b[39m(backend_mod, func_name))\n\u001b[32m    518\u001b[39m \u001b[38;5;66;03m# Need to keep a global reference to the backend for compatibility reasons.\u001b[39;00m\n\u001b[32m    519\u001b[39m \u001b[38;5;66;03m# See https://github.com/matplotlib/matplotlib/issues/6092\u001b[39;00m\n\u001b[32m--> \u001b[39m\u001b[32m520\u001b[39m \u001b[43mmatplotlib\u001b[49m\u001b[43m.\u001b[49m\u001b[43mbackends\u001b[49m.backend = newbackend  \u001b[38;5;66;03m# type: ignore[attr-defined]\u001b[39;00m\n\u001b[32m    522\u001b[39m \u001b[38;5;66;03m# Make sure the repl display hook is installed in case we become interactive.\u001b[39;00m\n\u001b[32m    523\u001b[39m install_repl_displayhook()\n",
      "\u001b[36mFile \u001b[39m\u001b[32mc:\\Users\\larit\\AppData\\Local\\Programs\\Python\\Python312\\Lib\\site-packages\\matplotlib\\_api\\__init__.py:218\u001b[39m, in \u001b[36mcaching_module_getattr.<locals>.__getattr__\u001b[39m\u001b[34m(name)\u001b[39m\n\u001b[32m    216\u001b[39m \u001b[38;5;28;01mif\u001b[39;00m name \u001b[38;5;129;01min\u001b[39;00m props:\n\u001b[32m    217\u001b[39m     \u001b[38;5;28;01mreturn\u001b[39;00m props[name].\u001b[34m__get__\u001b[39m(instance)\n\u001b[32m--> \u001b[39m\u001b[32m218\u001b[39m \u001b[38;5;28;01mraise\u001b[39;00m \u001b[38;5;167;01mAttributeError\u001b[39;00m(\n\u001b[32m    219\u001b[39m     \u001b[33mf\u001b[39m\u001b[33m\"\u001b[39m\u001b[33mmodule \u001b[39m\u001b[38;5;132;01m{\u001b[39;00m\u001b[38;5;28mcls\u001b[39m.\u001b[34m__module__\u001b[39m\u001b[38;5;132;01m!r}\u001b[39;00m\u001b[33m has no attribute \u001b[39m\u001b[38;5;132;01m{\u001b[39;00mname\u001b[38;5;132;01m!r}\u001b[39;00m\u001b[33m\"\u001b[39m)\n",
      "\u001b[31mAttributeError\u001b[39m: module 'matplotlib' has no attribute 'backends'"
     ]
    }
   ],
   "source": [
    "X = np.array([\n",
    "    [0,0,1],\n",
    "    [1,1,1],\n",
    "    [1,0,1],\n",
    "    [0,1,1]\n",
    "])\n",
    "y = np.array([[0,1,1,0]]).T # La T es para que sea una matriz columna"
   ]
  },
  {
   "cell_type": "markdown",
   "id": "e137d8f9",
   "metadata": {},
   "source": [
    "Recordemos que la cuenta de una red neuronal simple es:\n",
    "$$\n",
    "z = \\sum_{i=0}^{n} w_{i} x_i = w_0 x_0 + w_1 x_1 + ... + w_n x_n\n",
    "$$\n",
    "A eso le aplicamos una función de activación, en este caso la sigmoide.\n",
    "Nos quedaría:\n",
    "$$\n",
    "output = \\sigma(\\sum_{i=0}^{n} w_{i} x_i)\n",
    "$$\n",
    "o de forma vectorial:\n",
    "$$\n",
    "\\text{output} = \\sigma\\!\\left(\n",
    "\\begin{bmatrix}\n",
    "w_1 & w_2 & \\cdots & w_n\n",
    "\\end{bmatrix}\n",
    "\\begin{bmatrix}\n",
    "x_1 \\\\ x_2 \\\\ \\vdots \\\\ x_n\n",
    "\\end{bmatrix}\n",
    "\\right)\n",
    "$$"
   ]
  },
  {
   "cell_type": "markdown",
   "id": "f36cbcdd",
   "metadata": {},
   "source": [
    "Ahora hagamos esta misma cuenta pero programando :)\n",
    "Definamos las cosas que nos faltan."
   ]
  },
  {
   "cell_type": "code",
   "execution_count": 74,
   "id": "02617196",
   "metadata": {},
   "outputs": [
    {
     "name": "stdout",
     "output_type": "stream",
     "text": [
      "Error in callback <function _enable_matplotlib_integration.<locals>.configure_once at 0x0000021D6934DA80> (for post_run_cell), with arguments args (<ExecutionResult object at 21d6a1b1d30, execution_count=74 error_before_exec=None error_in_exec=None info=<ExecutionInfo object at 21d6a1b2a80, raw_cell=\"weights = np.random.rand(3, 1)  # Vector de 3x1 co..\" store_history=True silent=False shell_futures=True cell_id=vscode-notebook-cell:/c%3A/Users/larit/OneDrive/Documentos/GitHub/IA_chona_Lara_Muina/clase6_simple_nn%20%283%29.ipynb#W5sZmlsZQ%3D%3D> result=None>,),kwargs {}:\n"
     ]
    },
    {
     "name": "stdout",
     "output_type": "stream",
     "text": [
      "Error in callback <function _enable_matplotlib_integration.<locals>.configure_once at 0x0000021D6934DA80> (for post_run_cell), with arguments args (<ExecutionResult object at 21d6a1b1d30, execution_count=74 error_before_exec=None error_in_exec=None info=<ExecutionInfo object at 21d6a1b2a80, raw_cell=\"weights = np.random.rand(3, 1)  # Vector de 3x1 co..\" store_history=True silent=False shell_futures=True cell_id=vscode-notebook-cell:/c%3A/Users/larit/OneDrive/Documentos/GitHub/IA_chona_Lara_Muina/clase6_simple_nn%20%283%29.ipynb#W5sZmlsZQ%3D%3D> result=None>,),kwargs {}:\n"
     ]
    },
    {
     "ename": "AttributeError",
     "evalue": "module 'matplotlib' has no attribute 'backends'",
     "output_type": "error",
     "traceback": [
      "\u001b[31m---------------------------------------------------------------------------\u001b[39m",
      "\u001b[31mAttributeError\u001b[39m                            Traceback (most recent call last)",
      "\u001b[36mFile \u001b[39m\u001b[32m~\\AppData\\Roaming\\Python\\Python312\\site-packages\\matplotlib_inline\\backend_inline.py:222\u001b[39m, in \u001b[36m_enable_matplotlib_integration.<locals>.configure_once\u001b[39m\u001b[34m(*args)\u001b[39m\n\u001b[32m    221\u001b[39m \u001b[38;5;28;01mdef\u001b[39;00m\u001b[38;5;250m \u001b[39m\u001b[34mconfigure_once\u001b[39m(*args):\n\u001b[32m--> \u001b[39m\u001b[32m222\u001b[39m     \u001b[43mactivate_matplotlib\u001b[49m\u001b[43m(\u001b[49m\u001b[43mbackend\u001b[49m\u001b[43m)\u001b[49m\n\u001b[32m    223\u001b[39m     configure_inline_support(ip, backend)\n\u001b[32m    224\u001b[39m     ip.events.unregister(\u001b[33m'\u001b[39m\u001b[33mpost_run_cell\u001b[39m\u001b[33m'\u001b[39m, configure_once)\n",
      "\u001b[36mFile \u001b[39m\u001b[32m~\\AppData\\Roaming\\Python\\Python312\\site-packages\\IPython\\core\\pylabtools.py:410\u001b[39m, in \u001b[36mactivate_matplotlib\u001b[39m\u001b[34m(backend)\u001b[39m\n\u001b[32m    405\u001b[39m \u001b[38;5;66;03m# Due to circular imports, pyplot may be only partially initialised\u001b[39;00m\n\u001b[32m    406\u001b[39m \u001b[38;5;66;03m# when this function runs.\u001b[39;00m\n\u001b[32m    407\u001b[39m \u001b[38;5;66;03m# So avoid needing matplotlib attribute-lookup to access pyplot.\u001b[39;00m\n\u001b[32m    408\u001b[39m \u001b[38;5;28;01mfrom\u001b[39;00m\u001b[38;5;250m \u001b[39m\u001b[34;01mmatplotlib\u001b[39;00m\u001b[38;5;250m \u001b[39m\u001b[38;5;28;01mimport\u001b[39;00m pyplot \u001b[38;5;28;01mas\u001b[39;00m plt\n\u001b[32m--> \u001b[39m\u001b[32m410\u001b[39m \u001b[43mplt\u001b[49m\u001b[43m.\u001b[49m\u001b[43mswitch_backend\u001b[49m\u001b[43m(\u001b[49m\u001b[43mbackend\u001b[49m\u001b[43m)\u001b[49m\n\u001b[32m    412\u001b[39m plt.show._needmain = \u001b[38;5;28;01mFalse\u001b[39;00m\n\u001b[32m    413\u001b[39m \u001b[38;5;66;03m# We need to detect at runtime whether show() is called by the user.\u001b[39;00m\n\u001b[32m    414\u001b[39m \u001b[38;5;66;03m# For this, we wrap it into a decorator which adds a 'called' flag.\u001b[39;00m\n",
      "\u001b[36mFile \u001b[39m\u001b[32mc:\\Users\\larit\\AppData\\Local\\Programs\\Python\\Python312\\Lib\\site-packages\\matplotlib\\pyplot.py:520\u001b[39m, in \u001b[36mswitch_backend\u001b[39m\u001b[34m(newbackend)\u001b[39m\n\u001b[32m    515\u001b[39m     \u001b[38;5;28mglobals\u001b[39m()[func_name].__signature__ = inspect.signature(\n\u001b[32m    516\u001b[39m         \u001b[38;5;28mgetattr\u001b[39m(backend_mod, func_name))\n\u001b[32m    518\u001b[39m \u001b[38;5;66;03m# Need to keep a global reference to the backend for compatibility reasons.\u001b[39;00m\n\u001b[32m    519\u001b[39m \u001b[38;5;66;03m# See https://github.com/matplotlib/matplotlib/issues/6092\u001b[39;00m\n\u001b[32m--> \u001b[39m\u001b[32m520\u001b[39m \u001b[43mmatplotlib\u001b[49m\u001b[43m.\u001b[49m\u001b[43mbackends\u001b[49m.backend = newbackend  \u001b[38;5;66;03m# type: ignore[attr-defined]\u001b[39;00m\n\u001b[32m    522\u001b[39m \u001b[38;5;66;03m# Make sure the repl display hook is installed in case we become interactive.\u001b[39;00m\n\u001b[32m    523\u001b[39m install_repl_displayhook()\n",
      "\u001b[36mFile \u001b[39m\u001b[32mc:\\Users\\larit\\AppData\\Local\\Programs\\Python\\Python312\\Lib\\site-packages\\matplotlib\\_api\\__init__.py:218\u001b[39m, in \u001b[36mcaching_module_getattr.<locals>.__getattr__\u001b[39m\u001b[34m(name)\u001b[39m\n\u001b[32m    216\u001b[39m \u001b[38;5;28;01mif\u001b[39;00m name \u001b[38;5;129;01min\u001b[39;00m props:\n\u001b[32m    217\u001b[39m     \u001b[38;5;28;01mreturn\u001b[39;00m props[name].\u001b[34m__get__\u001b[39m(instance)\n\u001b[32m--> \u001b[39m\u001b[32m218\u001b[39m \u001b[38;5;28;01mraise\u001b[39;00m \u001b[38;5;167;01mAttributeError\u001b[39;00m(\n\u001b[32m    219\u001b[39m     \u001b[33mf\u001b[39m\u001b[33m\"\u001b[39m\u001b[33mmodule \u001b[39m\u001b[38;5;132;01m{\u001b[39;00m\u001b[38;5;28mcls\u001b[39m.\u001b[34m__module__\u001b[39m\u001b[38;5;132;01m!r}\u001b[39;00m\u001b[33m has no attribute \u001b[39m\u001b[38;5;132;01m{\u001b[39;00mname\u001b[38;5;132;01m!r}\u001b[39;00m\u001b[33m\"\u001b[39m)\n",
      "\u001b[31mAttributeError\u001b[39m: module 'matplotlib' has no attribute 'backends'"
     ]
    }
   ],
   "source": [
    "weights = np.random.rand(3, 1)  # Vector de 3x1 con valores aleatorios\n",
    "\n",
    "def sigmoid(x):\n",
    "    return 1 / (1 + np.exp(-x))  # Fórmula de la función sigmoide"
   ]
  },
  {
   "cell_type": "markdown",
   "id": "3fce06cc",
   "metadata": {},
   "source": [
    "Ahora, creamos la función de forward propagation. Fijemonos que pasa cuando la usamos con los pesos random."
   ]
  },
  {
   "cell_type": "code",
   "execution_count": 75,
   "id": "4e60c580",
   "metadata": {},
   "outputs": [
    {
     "name": "stdout",
     "output_type": "stream",
     "text": [
      "Output de la red neuronal con pesos random:\n",
      "[[0.58511026]\n",
      " [0.72198491]\n",
      " [0.6969013 ]\n",
      " [0.61432547]]\n",
      "Error in callback <function _enable_matplotlib_integration.<locals>.configure_once at 0x0000021D6934DA80> (for post_run_cell), with arguments args (<ExecutionResult object at 21d6a21b4d0, execution_count=75 error_before_exec=None error_in_exec=None info=<ExecutionInfo object at 21d6a219dc0, raw_cell=\"def forward_prop(X, weights):\n",
      "    z = np.dot(X, we..\" store_history=True silent=False shell_futures=True cell_id=vscode-notebook-cell:/c%3A/Users/larit/OneDrive/Documentos/GitHub/IA_chona_Lara_Muina/clase6_simple_nn%20%283%29.ipynb#X10sZmlsZQ%3D%3D> result=None>,),kwargs {}:\n"
     ]
    },
    {
     "ename": "AttributeError",
     "evalue": "module 'matplotlib' has no attribute 'backends'",
     "output_type": "error",
     "traceback": [
      "\u001b[31m---------------------------------------------------------------------------\u001b[39m",
      "\u001b[31mAttributeError\u001b[39m                            Traceback (most recent call last)",
      "\u001b[36mFile \u001b[39m\u001b[32m~\\AppData\\Roaming\\Python\\Python312\\site-packages\\matplotlib_inline\\backend_inline.py:222\u001b[39m, in \u001b[36m_enable_matplotlib_integration.<locals>.configure_once\u001b[39m\u001b[34m(*args)\u001b[39m\n\u001b[32m    221\u001b[39m \u001b[38;5;28;01mdef\u001b[39;00m\u001b[38;5;250m \u001b[39m\u001b[34mconfigure_once\u001b[39m(*args):\n\u001b[32m--> \u001b[39m\u001b[32m222\u001b[39m     \u001b[43mactivate_matplotlib\u001b[49m\u001b[43m(\u001b[49m\u001b[43mbackend\u001b[49m\u001b[43m)\u001b[49m\n\u001b[32m    223\u001b[39m     configure_inline_support(ip, backend)\n\u001b[32m    224\u001b[39m     ip.events.unregister(\u001b[33m'\u001b[39m\u001b[33mpost_run_cell\u001b[39m\u001b[33m'\u001b[39m, configure_once)\n",
      "\u001b[36mFile \u001b[39m\u001b[32m~\\AppData\\Roaming\\Python\\Python312\\site-packages\\IPython\\core\\pylabtools.py:410\u001b[39m, in \u001b[36mactivate_matplotlib\u001b[39m\u001b[34m(backend)\u001b[39m\n\u001b[32m    405\u001b[39m \u001b[38;5;66;03m# Due to circular imports, pyplot may be only partially initialised\u001b[39;00m\n\u001b[32m    406\u001b[39m \u001b[38;5;66;03m# when this function runs.\u001b[39;00m\n\u001b[32m    407\u001b[39m \u001b[38;5;66;03m# So avoid needing matplotlib attribute-lookup to access pyplot.\u001b[39;00m\n\u001b[32m    408\u001b[39m \u001b[38;5;28;01mfrom\u001b[39;00m\u001b[38;5;250m \u001b[39m\u001b[34;01mmatplotlib\u001b[39;00m\u001b[38;5;250m \u001b[39m\u001b[38;5;28;01mimport\u001b[39;00m pyplot \u001b[38;5;28;01mas\u001b[39;00m plt\n\u001b[32m--> \u001b[39m\u001b[32m410\u001b[39m \u001b[43mplt\u001b[49m\u001b[43m.\u001b[49m\u001b[43mswitch_backend\u001b[49m\u001b[43m(\u001b[49m\u001b[43mbackend\u001b[49m\u001b[43m)\u001b[49m\n\u001b[32m    412\u001b[39m plt.show._needmain = \u001b[38;5;28;01mFalse\u001b[39;00m\n\u001b[32m    413\u001b[39m \u001b[38;5;66;03m# We need to detect at runtime whether show() is called by the user.\u001b[39;00m\n\u001b[32m    414\u001b[39m \u001b[38;5;66;03m# For this, we wrap it into a decorator which adds a 'called' flag.\u001b[39;00m\n",
      "\u001b[36mFile \u001b[39m\u001b[32mc:\\Users\\larit\\AppData\\Local\\Programs\\Python\\Python312\\Lib\\site-packages\\matplotlib\\pyplot.py:520\u001b[39m, in \u001b[36mswitch_backend\u001b[39m\u001b[34m(newbackend)\u001b[39m\n\u001b[32m    515\u001b[39m     \u001b[38;5;28mglobals\u001b[39m()[func_name].__signature__ = inspect.signature(\n\u001b[32m    516\u001b[39m         \u001b[38;5;28mgetattr\u001b[39m(backend_mod, func_name))\n\u001b[32m    518\u001b[39m \u001b[38;5;66;03m# Need to keep a global reference to the backend for compatibility reasons.\u001b[39;00m\n\u001b[32m    519\u001b[39m \u001b[38;5;66;03m# See https://github.com/matplotlib/matplotlib/issues/6092\u001b[39;00m\n\u001b[32m--> \u001b[39m\u001b[32m520\u001b[39m \u001b[43mmatplotlib\u001b[49m\u001b[43m.\u001b[49m\u001b[43mbackends\u001b[49m.backend = newbackend  \u001b[38;5;66;03m# type: ignore[attr-defined]\u001b[39;00m\n\u001b[32m    522\u001b[39m \u001b[38;5;66;03m# Make sure the repl display hook is installed in case we become interactive.\u001b[39;00m\n\u001b[32m    523\u001b[39m install_repl_displayhook()\n",
      "\u001b[36mFile \u001b[39m\u001b[32mc:\\Users\\larit\\AppData\\Local\\Programs\\Python\\Python312\\Lib\\site-packages\\matplotlib\\_api\\__init__.py:218\u001b[39m, in \u001b[36mcaching_module_getattr.<locals>.__getattr__\u001b[39m\u001b[34m(name)\u001b[39m\n\u001b[32m    216\u001b[39m \u001b[38;5;28;01mif\u001b[39;00m name \u001b[38;5;129;01min\u001b[39;00m props:\n\u001b[32m    217\u001b[39m     \u001b[38;5;28;01mreturn\u001b[39;00m props[name].\u001b[34m__get__\u001b[39m(instance)\n\u001b[32m--> \u001b[39m\u001b[32m218\u001b[39m \u001b[38;5;28;01mraise\u001b[39;00m \u001b[38;5;167;01mAttributeError\u001b[39;00m(\n\u001b[32m    219\u001b[39m     \u001b[33mf\u001b[39m\u001b[33m\"\u001b[39m\u001b[33mmodule \u001b[39m\u001b[38;5;132;01m{\u001b[39;00m\u001b[38;5;28mcls\u001b[39m.\u001b[34m__module__\u001b[39m\u001b[38;5;132;01m!r}\u001b[39;00m\u001b[33m has no attribute \u001b[39m\u001b[38;5;132;01m{\u001b[39;00mname\u001b[38;5;132;01m!r}\u001b[39;00m\u001b[33m\"\u001b[39m)\n",
      "\u001b[31mAttributeError\u001b[39m: module 'matplotlib' has no attribute 'backends'"
     ]
    }
   ],
   "source": [
    "def forward_prop(X, weights):\n",
    "    z = np.dot(X, weights)  # Producto punto entre X y los pesos\n",
    "    output = sigmoid(z)     # Aplicar la función sigmoide\n",
    "    return output\n",
    "\n",
    "output = forward_prop(X, weights)\n",
    "print(\"Output de la red neuronal con pesos random:\")\n",
    "print(output)"
   ]
  },
  {
   "cell_type": "markdown",
   "id": "e282d9f2",
   "metadata": {},
   "source": [
    "Claramente no tiene mucho sentido... Intentemos mejorarlo!\n",
    "\n",
    "Pasos para mejorar la red neuronal:\n",
    "- Definir una función de pérdida (loss function) para medir qué tan bien lo estamos haciendo.\n",
    "- Calculo la derivada de la función de pérdida.\n",
    "Esto es para saber en qué dirección ajustar los pesos (sumo o resto?)\n",
    "- Repito el proceso varias veces (epochs), ajustando los pesos en cada iteración."
   ]
  },
  {
   "cell_type": "code",
   "execution_count": 76,
   "id": "193337f6",
   "metadata": {},
   "outputs": [
    {
     "name": "stdout",
     "output_type": "stream",
     "text": [
      "Error in callback <function _enable_matplotlib_integration.<locals>.configure_once at 0x0000021D6934DA80> (for post_run_cell), with arguments args (<ExecutionResult object at 21d5aa232f0, execution_count=76 error_before_exec=None error_in_exec=None info=<ExecutionInfo object at 21d5aa22a80, raw_cell=\"def sigmoid_derivative(x):\n",
      "    return x * (1 - x)\" store_history=True silent=False shell_futures=True cell_id=vscode-notebook-cell:/c%3A/Users/larit/OneDrive/Documentos/GitHub/IA_chona_Lara_Muina/clase6_simple_nn%20%283%29.ipynb#X12sZmlsZQ%3D%3D> result=None>,),kwargs {}:\n"
     ]
    },
    {
     "name": "stdout",
     "output_type": "stream",
     "text": [
      "Error in callback <function _enable_matplotlib_integration.<locals>.configure_once at 0x0000021D6934DA80> (for post_run_cell), with arguments args (<ExecutionResult object at 21d5aa232f0, execution_count=76 error_before_exec=None error_in_exec=None info=<ExecutionInfo object at 21d5aa22a80, raw_cell=\"def sigmoid_derivative(x):\n",
      "    return x * (1 - x)\" store_history=True silent=False shell_futures=True cell_id=vscode-notebook-cell:/c%3A/Users/larit/OneDrive/Documentos/GitHub/IA_chona_Lara_Muina/clase6_simple_nn%20%283%29.ipynb#X12sZmlsZQ%3D%3D> result=None>,),kwargs {}:\n"
     ]
    },
    {
     "ename": "AttributeError",
     "evalue": "module 'matplotlib' has no attribute 'backends'",
     "output_type": "error",
     "traceback": [
      "\u001b[31m---------------------------------------------------------------------------\u001b[39m",
      "\u001b[31mAttributeError\u001b[39m                            Traceback (most recent call last)",
      "\u001b[36mFile \u001b[39m\u001b[32m~\\AppData\\Roaming\\Python\\Python312\\site-packages\\matplotlib_inline\\backend_inline.py:222\u001b[39m, in \u001b[36m_enable_matplotlib_integration.<locals>.configure_once\u001b[39m\u001b[34m(*args)\u001b[39m\n\u001b[32m    221\u001b[39m \u001b[38;5;28;01mdef\u001b[39;00m\u001b[38;5;250m \u001b[39m\u001b[34mconfigure_once\u001b[39m(*args):\n\u001b[32m--> \u001b[39m\u001b[32m222\u001b[39m     \u001b[43mactivate_matplotlib\u001b[49m\u001b[43m(\u001b[49m\u001b[43mbackend\u001b[49m\u001b[43m)\u001b[49m\n\u001b[32m    223\u001b[39m     configure_inline_support(ip, backend)\n\u001b[32m    224\u001b[39m     ip.events.unregister(\u001b[33m'\u001b[39m\u001b[33mpost_run_cell\u001b[39m\u001b[33m'\u001b[39m, configure_once)\n",
      "\u001b[36mFile \u001b[39m\u001b[32m~\\AppData\\Roaming\\Python\\Python312\\site-packages\\IPython\\core\\pylabtools.py:410\u001b[39m, in \u001b[36mactivate_matplotlib\u001b[39m\u001b[34m(backend)\u001b[39m\n\u001b[32m    405\u001b[39m \u001b[38;5;66;03m# Due to circular imports, pyplot may be only partially initialised\u001b[39;00m\n\u001b[32m    406\u001b[39m \u001b[38;5;66;03m# when this function runs.\u001b[39;00m\n\u001b[32m    407\u001b[39m \u001b[38;5;66;03m# So avoid needing matplotlib attribute-lookup to access pyplot.\u001b[39;00m\n\u001b[32m    408\u001b[39m \u001b[38;5;28;01mfrom\u001b[39;00m\u001b[38;5;250m \u001b[39m\u001b[34;01mmatplotlib\u001b[39;00m\u001b[38;5;250m \u001b[39m\u001b[38;5;28;01mimport\u001b[39;00m pyplot \u001b[38;5;28;01mas\u001b[39;00m plt\n\u001b[32m--> \u001b[39m\u001b[32m410\u001b[39m \u001b[43mplt\u001b[49m\u001b[43m.\u001b[49m\u001b[43mswitch_backend\u001b[49m\u001b[43m(\u001b[49m\u001b[43mbackend\u001b[49m\u001b[43m)\u001b[49m\n\u001b[32m    412\u001b[39m plt.show._needmain = \u001b[38;5;28;01mFalse\u001b[39;00m\n\u001b[32m    413\u001b[39m \u001b[38;5;66;03m# We need to detect at runtime whether show() is called by the user.\u001b[39;00m\n\u001b[32m    414\u001b[39m \u001b[38;5;66;03m# For this, we wrap it into a decorator which adds a 'called' flag.\u001b[39;00m\n",
      "\u001b[36mFile \u001b[39m\u001b[32mc:\\Users\\larit\\AppData\\Local\\Programs\\Python\\Python312\\Lib\\site-packages\\matplotlib\\pyplot.py:520\u001b[39m, in \u001b[36mswitch_backend\u001b[39m\u001b[34m(newbackend)\u001b[39m\n\u001b[32m    515\u001b[39m     \u001b[38;5;28mglobals\u001b[39m()[func_name].__signature__ = inspect.signature(\n\u001b[32m    516\u001b[39m         \u001b[38;5;28mgetattr\u001b[39m(backend_mod, func_name))\n\u001b[32m    518\u001b[39m \u001b[38;5;66;03m# Need to keep a global reference to the backend for compatibility reasons.\u001b[39;00m\n\u001b[32m    519\u001b[39m \u001b[38;5;66;03m# See https://github.com/matplotlib/matplotlib/issues/6092\u001b[39;00m\n\u001b[32m--> \u001b[39m\u001b[32m520\u001b[39m \u001b[43mmatplotlib\u001b[49m\u001b[43m.\u001b[49m\u001b[43mbackends\u001b[49m.backend = newbackend  \u001b[38;5;66;03m# type: ignore[attr-defined]\u001b[39;00m\n\u001b[32m    522\u001b[39m \u001b[38;5;66;03m# Make sure the repl display hook is installed in case we become interactive.\u001b[39;00m\n\u001b[32m    523\u001b[39m install_repl_displayhook()\n",
      "\u001b[36mFile \u001b[39m\u001b[32mc:\\Users\\larit\\AppData\\Local\\Programs\\Python\\Python312\\Lib\\site-packages\\matplotlib\\_api\\__init__.py:218\u001b[39m, in \u001b[36mcaching_module_getattr.<locals>.__getattr__\u001b[39m\u001b[34m(name)\u001b[39m\n\u001b[32m    216\u001b[39m \u001b[38;5;28;01mif\u001b[39;00m name \u001b[38;5;129;01min\u001b[39;00m props:\n\u001b[32m    217\u001b[39m     \u001b[38;5;28;01mreturn\u001b[39;00m props[name].\u001b[34m__get__\u001b[39m(instance)\n\u001b[32m--> \u001b[39m\u001b[32m218\u001b[39m \u001b[38;5;28;01mraise\u001b[39;00m \u001b[38;5;167;01mAttributeError\u001b[39;00m(\n\u001b[32m    219\u001b[39m     \u001b[33mf\u001b[39m\u001b[33m\"\u001b[39m\u001b[33mmodule \u001b[39m\u001b[38;5;132;01m{\u001b[39;00m\u001b[38;5;28mcls\u001b[39m.\u001b[34m__module__\u001b[39m\u001b[38;5;132;01m!r}\u001b[39;00m\u001b[33m has no attribute \u001b[39m\u001b[38;5;132;01m{\u001b[39;00mname\u001b[38;5;132;01m!r}\u001b[39;00m\u001b[33m\"\u001b[39m)\n",
      "\u001b[31mAttributeError\u001b[39m: module 'matplotlib' has no attribute 'backends'"
     ]
    }
   ],
   "source": [
    "def sigmoid_derivative(x):\n",
    "    return x * (1 - x)"
   ]
  },
  {
   "cell_type": "code",
   "execution_count": 77,
   "id": "3d7ddc10",
   "metadata": {},
   "outputs": [
    {
     "name": "stdout",
     "output_type": "stream",
     "text": [
      "Pesos iniciales:\n",
      "[[0.4887978 ]\n",
      " [0.12174356]\n",
      " [0.34378749]]\n",
      "\n",
      " Error inicial:\n",
      "[[-0.58511026]\n",
      " [ 0.27801509]\n",
      " [ 0.3030987 ]\n",
      " [-0.61432547]]\n",
      "\n",
      " Derivada de la función sigmoide aplicada al output:\n",
      "[[0.24275624]\n",
      " [0.2007227 ]\n",
      " [0.21122988]\n",
      " [0.23692969]]\n",
      "\n",
      " Ajuste a aplicar a los pesos:\n",
      "[[-0.14203917]\n",
      " [ 0.05580394]\n",
      " [ 0.0640235 ]\n",
      " [-0.14555194]]\n",
      "\n",
      " Nuevos pesos después del ajuste:\n",
      "[[0.60862524]\n",
      " [0.03199555]\n",
      " [0.17602383]]\n",
      "Error in callback <function _enable_matplotlib_integration.<locals>.configure_once at 0x0000021D6934DA80> (for post_run_cell), with arguments args (<ExecutionResult object at 21d6a131400, execution_count=77 error_before_exec=None error_in_exec=None info=<ExecutionInfo object at 21d6a1335f0, raw_cell=\"print(\"Pesos iniciales:\")\n",
      "print(weights)\n",
      "\n",
      "error = ..\" store_history=True silent=False shell_futures=True cell_id=vscode-notebook-cell:/c%3A/Users/larit/OneDrive/Documentos/GitHub/IA_chona_Lara_Muina/clase6_simple_nn%20%283%29.ipynb#X13sZmlsZQ%3D%3D> result=None>,),kwargs {}:\n"
     ]
    },
    {
     "ename": "AttributeError",
     "evalue": "module 'matplotlib' has no attribute 'backends'",
     "output_type": "error",
     "traceback": [
      "\u001b[31m---------------------------------------------------------------------------\u001b[39m",
      "\u001b[31mAttributeError\u001b[39m                            Traceback (most recent call last)",
      "\u001b[36mFile \u001b[39m\u001b[32m~\\AppData\\Roaming\\Python\\Python312\\site-packages\\matplotlib_inline\\backend_inline.py:222\u001b[39m, in \u001b[36m_enable_matplotlib_integration.<locals>.configure_once\u001b[39m\u001b[34m(*args)\u001b[39m\n\u001b[32m    221\u001b[39m \u001b[38;5;28;01mdef\u001b[39;00m\u001b[38;5;250m \u001b[39m\u001b[34mconfigure_once\u001b[39m(*args):\n\u001b[32m--> \u001b[39m\u001b[32m222\u001b[39m     \u001b[43mactivate_matplotlib\u001b[49m\u001b[43m(\u001b[49m\u001b[43mbackend\u001b[49m\u001b[43m)\u001b[49m\n\u001b[32m    223\u001b[39m     configure_inline_support(ip, backend)\n\u001b[32m    224\u001b[39m     ip.events.unregister(\u001b[33m'\u001b[39m\u001b[33mpost_run_cell\u001b[39m\u001b[33m'\u001b[39m, configure_once)\n",
      "\u001b[36mFile \u001b[39m\u001b[32m~\\AppData\\Roaming\\Python\\Python312\\site-packages\\IPython\\core\\pylabtools.py:410\u001b[39m, in \u001b[36mactivate_matplotlib\u001b[39m\u001b[34m(backend)\u001b[39m\n\u001b[32m    405\u001b[39m \u001b[38;5;66;03m# Due to circular imports, pyplot may be only partially initialised\u001b[39;00m\n\u001b[32m    406\u001b[39m \u001b[38;5;66;03m# when this function runs.\u001b[39;00m\n\u001b[32m    407\u001b[39m \u001b[38;5;66;03m# So avoid needing matplotlib attribute-lookup to access pyplot.\u001b[39;00m\n\u001b[32m    408\u001b[39m \u001b[38;5;28;01mfrom\u001b[39;00m\u001b[38;5;250m \u001b[39m\u001b[34;01mmatplotlib\u001b[39;00m\u001b[38;5;250m \u001b[39m\u001b[38;5;28;01mimport\u001b[39;00m pyplot \u001b[38;5;28;01mas\u001b[39;00m plt\n\u001b[32m--> \u001b[39m\u001b[32m410\u001b[39m \u001b[43mplt\u001b[49m\u001b[43m.\u001b[49m\u001b[43mswitch_backend\u001b[49m\u001b[43m(\u001b[49m\u001b[43mbackend\u001b[49m\u001b[43m)\u001b[49m\n\u001b[32m    412\u001b[39m plt.show._needmain = \u001b[38;5;28;01mFalse\u001b[39;00m\n\u001b[32m    413\u001b[39m \u001b[38;5;66;03m# We need to detect at runtime whether show() is called by the user.\u001b[39;00m\n\u001b[32m    414\u001b[39m \u001b[38;5;66;03m# For this, we wrap it into a decorator which adds a 'called' flag.\u001b[39;00m\n",
      "\u001b[36mFile \u001b[39m\u001b[32mc:\\Users\\larit\\AppData\\Local\\Programs\\Python\\Python312\\Lib\\site-packages\\matplotlib\\pyplot.py:520\u001b[39m, in \u001b[36mswitch_backend\u001b[39m\u001b[34m(newbackend)\u001b[39m\n\u001b[32m    515\u001b[39m     \u001b[38;5;28mglobals\u001b[39m()[func_name].__signature__ = inspect.signature(\n\u001b[32m    516\u001b[39m         \u001b[38;5;28mgetattr\u001b[39m(backend_mod, func_name))\n\u001b[32m    518\u001b[39m \u001b[38;5;66;03m# Need to keep a global reference to the backend for compatibility reasons.\u001b[39;00m\n\u001b[32m    519\u001b[39m \u001b[38;5;66;03m# See https://github.com/matplotlib/matplotlib/issues/6092\u001b[39;00m\n\u001b[32m--> \u001b[39m\u001b[32m520\u001b[39m \u001b[43mmatplotlib\u001b[49m\u001b[43m.\u001b[49m\u001b[43mbackends\u001b[49m.backend = newbackend  \u001b[38;5;66;03m# type: ignore[attr-defined]\u001b[39;00m\n\u001b[32m    522\u001b[39m \u001b[38;5;66;03m# Make sure the repl display hook is installed in case we become interactive.\u001b[39;00m\n\u001b[32m    523\u001b[39m install_repl_displayhook()\n",
      "\u001b[36mFile \u001b[39m\u001b[32mc:\\Users\\larit\\AppData\\Local\\Programs\\Python\\Python312\\Lib\\site-packages\\matplotlib\\_api\\__init__.py:218\u001b[39m, in \u001b[36mcaching_module_getattr.<locals>.__getattr__\u001b[39m\u001b[34m(name)\u001b[39m\n\u001b[32m    216\u001b[39m \u001b[38;5;28;01mif\u001b[39;00m name \u001b[38;5;129;01min\u001b[39;00m props:\n\u001b[32m    217\u001b[39m     \u001b[38;5;28;01mreturn\u001b[39;00m props[name].\u001b[34m__get__\u001b[39m(instance)\n\u001b[32m--> \u001b[39m\u001b[32m218\u001b[39m \u001b[38;5;28;01mraise\u001b[39;00m \u001b[38;5;167;01mAttributeError\u001b[39;00m(\n\u001b[32m    219\u001b[39m     \u001b[33mf\u001b[39m\u001b[33m\"\u001b[39m\u001b[33mmodule \u001b[39m\u001b[38;5;132;01m{\u001b[39;00m\u001b[38;5;28mcls\u001b[39m.\u001b[34m__module__\u001b[39m\u001b[38;5;132;01m!r}\u001b[39;00m\u001b[33m has no attribute \u001b[39m\u001b[38;5;132;01m{\u001b[39;00mname\u001b[38;5;132;01m!r}\u001b[39;00m\u001b[33m\"\u001b[39m)\n",
      "\u001b[31mAttributeError\u001b[39m: module 'matplotlib' has no attribute 'backends'"
     ]
    }
   ],
   "source": [
    "print(\"Pesos iniciales:\")\n",
    "print(weights)\n",
    "\n",
    "error = y - output\n",
    "print(\"\\n Error inicial:\")\n",
    "print(error)\n",
    "\n",
    "print(\"\\n Derivada de la función sigmoide aplicada al output:\")\n",
    "print(sigmoid_derivative(output))\n",
    "\n",
    "ajuste = error * sigmoid_derivative(output)\n",
    "print(\"\\n Ajuste a aplicar a los pesos:\")\n",
    "print(ajuste)\n",
    "\n",
    "weights += np.dot(X.T, ajuste)\n",
    "print(\"\\n Nuevos pesos después del ajuste:\")\n",
    "print(weights)"
   ]
  },
  {
   "cell_type": "markdown",
   "id": "b66ab901",
   "metadata": {},
   "source": [
    "**Consigna:** Hacer este mismo proceso de entrenamiento varias veces (si, es copiar y pegar el codigo de arriba en un for). Cuantas? El número de epochs.\n",
    "\n",
    "También guardarse los errores en una lista y graficarlas al final para ver como va mejorando la red neuronal!\n",
    "Recomendación: promediar los errores y tomarles valor absoluto para que no se cancelen entre sí. Esto es solo para graficar mejor\n"
   ]
  },
  {
   "cell_type": "code",
   "execution_count": 78,
   "id": "795c59f8",
   "metadata": {},
   "outputs": [
    {
     "name": "stdout",
     "output_type": "stream",
     "text": [
      "🎉 ¡Entrenamiento completado!\n",
      "📊 Error final promedio: 0.011329\n",
      "\n",
      "📈 Evolución del error:\n",
      "   • Error inicial: 0.428876\n",
      "   • Error en época 1000: 0.026089\n",
      "   • Error en época 2000: 0.018162\n",
      "   • Error en época 3000: 0.014727\n",
      "   • Error en época 4000: 0.012701\n",
      "   • Error final: 0.011329\n",
      "\n",
      "🎯 Predicciones finales:\n",
      "Entrada -> Predicción | Target | ¿Correcto?\n",
      "---------------------------------------------\n",
      "[0 0 1] -> 0.0138     | 0      | ✅\n",
      "[1 1 1] -> 0.9888     | 1      | ✅\n",
      "[1 0 1] -> 0.9909     | 1      | ✅\n",
      "[0 1 1] -> 0.0112     | 0      | ✅\n",
      "\n",
      "============================================================\n",
      "📈 EVOLUCIÓN DEL ERROR DE ENTRENAMIENTO\n",
      "============================================================\n",
      "📊 RESULTADOS:\n",
      "   🔴 Error inicial:  0.428876\n",
      "   🟢 Error final:    0.011329\n",
      "   📉 Mejora total:   97.4%\n",
      "   🔄 Épocas:         5000\n",
      "\n",
      "📈 PROGRESO POR CUARTOS:\n",
      "   Inicio │ 0.428876 │ ░░░░░░░░░░░░░░░░░░░░ │   0.0%\n",
      "   25%    │ 0.023194 │ ██████████████████░░ │  94.6%\n",
      "   50%    │ 0.016176 │ ███████████████████░ │  96.2%\n",
      "   75%    │ 0.013128 │ ███████████████████░ │  96.9%\n",
      "   Final  │ 0.011329 │ ███████████████████░ │  97.4%\n",
      "\n",
      "🎯 ANÁLISIS:\n",
      "   ✅ ¡Muy bien! Error aceptable - buen aprendizaje\n",
      "============================================================\n",
      "Error in callback <function _enable_matplotlib_integration.<locals>.configure_once at 0x0000021D6934DA80> (for post_run_cell), with arguments args (<ExecutionResult object at 21d6a3c23f0, execution_count=78 error_before_exec=None error_in_exec=None info=<ExecutionInfo object at 21d6a3c27b0, raw_cell=\"epochs = 5000\n",
      "errores = []\n",
      "\n",
      "for epoch in range(epo..\" store_history=True silent=False shell_futures=True cell_id=vscode-notebook-cell:/c%3A/Users/larit/OneDrive/Documentos/GitHub/IA_chona_Lara_Muina/clase6_simple_nn%20%283%29.ipynb#X15sZmlsZQ%3D%3D> result=None>,),kwargs {}:\n"
     ]
    },
    {
     "ename": "AttributeError",
     "evalue": "module 'matplotlib' has no attribute 'backends'",
     "output_type": "error",
     "traceback": [
      "\u001b[31m---------------------------------------------------------------------------\u001b[39m",
      "\u001b[31mAttributeError\u001b[39m                            Traceback (most recent call last)",
      "\u001b[36mFile \u001b[39m\u001b[32m~\\AppData\\Roaming\\Python\\Python312\\site-packages\\matplotlib_inline\\backend_inline.py:222\u001b[39m, in \u001b[36m_enable_matplotlib_integration.<locals>.configure_once\u001b[39m\u001b[34m(*args)\u001b[39m\n\u001b[32m    221\u001b[39m \u001b[38;5;28;01mdef\u001b[39;00m\u001b[38;5;250m \u001b[39m\u001b[34mconfigure_once\u001b[39m(*args):\n\u001b[32m--> \u001b[39m\u001b[32m222\u001b[39m     \u001b[43mactivate_matplotlib\u001b[49m\u001b[43m(\u001b[49m\u001b[43mbackend\u001b[49m\u001b[43m)\u001b[49m\n\u001b[32m    223\u001b[39m     configure_inline_support(ip, backend)\n\u001b[32m    224\u001b[39m     ip.events.unregister(\u001b[33m'\u001b[39m\u001b[33mpost_run_cell\u001b[39m\u001b[33m'\u001b[39m, configure_once)\n",
      "\u001b[36mFile \u001b[39m\u001b[32m~\\AppData\\Roaming\\Python\\Python312\\site-packages\\IPython\\core\\pylabtools.py:410\u001b[39m, in \u001b[36mactivate_matplotlib\u001b[39m\u001b[34m(backend)\u001b[39m\n\u001b[32m    405\u001b[39m \u001b[38;5;66;03m# Due to circular imports, pyplot may be only partially initialised\u001b[39;00m\n\u001b[32m    406\u001b[39m \u001b[38;5;66;03m# when this function runs.\u001b[39;00m\n\u001b[32m    407\u001b[39m \u001b[38;5;66;03m# So avoid needing matplotlib attribute-lookup to access pyplot.\u001b[39;00m\n\u001b[32m    408\u001b[39m \u001b[38;5;28;01mfrom\u001b[39;00m\u001b[38;5;250m \u001b[39m\u001b[34;01mmatplotlib\u001b[39;00m\u001b[38;5;250m \u001b[39m\u001b[38;5;28;01mimport\u001b[39;00m pyplot \u001b[38;5;28;01mas\u001b[39;00m plt\n\u001b[32m--> \u001b[39m\u001b[32m410\u001b[39m \u001b[43mplt\u001b[49m\u001b[43m.\u001b[49m\u001b[43mswitch_backend\u001b[49m\u001b[43m(\u001b[49m\u001b[43mbackend\u001b[49m\u001b[43m)\u001b[49m\n\u001b[32m    412\u001b[39m plt.show._needmain = \u001b[38;5;28;01mFalse\u001b[39;00m\n\u001b[32m    413\u001b[39m \u001b[38;5;66;03m# We need to detect at runtime whether show() is called by the user.\u001b[39;00m\n\u001b[32m    414\u001b[39m \u001b[38;5;66;03m# For this, we wrap it into a decorator which adds a 'called' flag.\u001b[39;00m\n",
      "\u001b[36mFile \u001b[39m\u001b[32mc:\\Users\\larit\\AppData\\Local\\Programs\\Python\\Python312\\Lib\\site-packages\\matplotlib\\pyplot.py:520\u001b[39m, in \u001b[36mswitch_backend\u001b[39m\u001b[34m(newbackend)\u001b[39m\n\u001b[32m    515\u001b[39m     \u001b[38;5;28mglobals\u001b[39m()[func_name].__signature__ = inspect.signature(\n\u001b[32m    516\u001b[39m         \u001b[38;5;28mgetattr\u001b[39m(backend_mod, func_name))\n\u001b[32m    518\u001b[39m \u001b[38;5;66;03m# Need to keep a global reference to the backend for compatibility reasons.\u001b[39;00m\n\u001b[32m    519\u001b[39m \u001b[38;5;66;03m# See https://github.com/matplotlib/matplotlib/issues/6092\u001b[39;00m\n\u001b[32m--> \u001b[39m\u001b[32m520\u001b[39m \u001b[43mmatplotlib\u001b[49m\u001b[43m.\u001b[49m\u001b[43mbackends\u001b[49m.backend = newbackend  \u001b[38;5;66;03m# type: ignore[attr-defined]\u001b[39;00m\n\u001b[32m    522\u001b[39m \u001b[38;5;66;03m# Make sure the repl display hook is installed in case we become interactive.\u001b[39;00m\n\u001b[32m    523\u001b[39m install_repl_displayhook()\n",
      "\u001b[36mFile \u001b[39m\u001b[32mc:\\Users\\larit\\AppData\\Local\\Programs\\Python\\Python312\\Lib\\site-packages\\matplotlib\\_api\\__init__.py:218\u001b[39m, in \u001b[36mcaching_module_getattr.<locals>.__getattr__\u001b[39m\u001b[34m(name)\u001b[39m\n\u001b[32m    216\u001b[39m \u001b[38;5;28;01mif\u001b[39;00m name \u001b[38;5;129;01min\u001b[39;00m props:\n\u001b[32m    217\u001b[39m     \u001b[38;5;28;01mreturn\u001b[39;00m props[name].\u001b[34m__get__\u001b[39m(instance)\n\u001b[32m--> \u001b[39m\u001b[32m218\u001b[39m \u001b[38;5;28;01mraise\u001b[39;00m \u001b[38;5;167;01mAttributeError\u001b[39;00m(\n\u001b[32m    219\u001b[39m     \u001b[33mf\u001b[39m\u001b[33m\"\u001b[39m\u001b[33mmodule \u001b[39m\u001b[38;5;132;01m{\u001b[39;00m\u001b[38;5;28mcls\u001b[39m.\u001b[34m__module__\u001b[39m\u001b[38;5;132;01m!r}\u001b[39;00m\u001b[33m has no attribute \u001b[39m\u001b[38;5;132;01m{\u001b[39;00mname\u001b[38;5;132;01m!r}\u001b[39;00m\u001b[33m\"\u001b[39m)\n",
      "\u001b[31mAttributeError\u001b[39m: module 'matplotlib' has no attribute 'backends'"
     ]
    }
   ],
   "source": [
    "epochs = 5000\n",
    "errores = []\n",
    "\n",
    "for epoch in range(epochs):\n",
    "    # Forward propagation\n",
    "    output = forward_prop(X, weights)\n",
    "    \n",
    "    # Calcular el error\n",
    "    error = y - output\n",
    "    \n",
    "    # Guardar el error promedio absoluto para graficarlo después\n",
    "    error_promedio = np.mean(np.abs(error))\n",
    "    errores.append(error_promedio)\n",
    "    \n",
    "    # Calcular el ajuste usando la derivada de la sigmoide\n",
    "    ajuste = error * sigmoid_derivative(output)\n",
    "    \n",
    "    # Actualizar los pesos\n",
    "    weights += np.dot(X.T, ajuste)\n",
    "\n",
    "print(\" ¡Entrenamiento completado!\")\n",
    "print(f\" Error final promedio: {errores[-1]:.6f}\")\n",
    "\n",
    "# Mostrar evolución del error sin gráficos\n",
    "print(f\"\\n Evolución del error:\")\n",
    "print(f\"   • Error inicial: {errores[0]:.6f}\")\n",
    "print(f\"   • Error en época 1000: {errores[999]:.6f}\")\n",
    "print(f\"   • Error en época 2000: {errores[1999]:.6f}\")\n",
    "print(f\"   • Error en época 3000: {errores[2999]:.6f}\")\n",
    "print(f\"   • Error en época 4000: {errores[3999]:.6f}\")\n",
    "print(f\"   • Error final: {errores[-1]:.6f}\")\n",
    "\n",
    "# Mostrar predicciones finales\n",
    "print(f\"\\n Predicciones finales:\")\n",
    "final_output = forward_prop(X, weights)\n",
    "print(\"Entrada -> Predicción | Target | ¿Correcto?\")\n",
    "print(\"-\" * 45)\n",
    "for i in range(len(X)):\n",
    "    pred = final_output[i][0]\n",
    "    target = y[i][0]\n",
    "    correcto = \"✅\" if abs(pred - target) < 0.1 else \"❌\"\n",
    "    print(f\"{X[i]} -> {pred:.4f}     | {target}      | {correcto}\")\n",
    "\n",
    "# Usar nuestra función simple\n",
    "plot_sin_errores(errores)"
   ]
  },
  {
   "cell_type": "markdown",
   "id": "570ed567",
   "metadata": {},
   "source": [
    "Veamos cómo quedaron los pesos finales\n",
    "\n",
    "Consigna: Escriban por que les parece que puede tener sentido que esos sean los pesos finales. (Miren el input y el output original)"
   ]
  },
  {
   "cell_type": "code",
   "execution_count": 79,
   "id": "87ef6bbd",
   "metadata": {},
   "outputs": [
    {
     "name": "stdout",
     "output_type": "stream",
     "text": [
      "Pesos finales después del entrenamiento:\n",
      "[[ 8.95959369]\n",
      " [-0.21095941]\n",
      " [-4.27061171]]\n",
      "Error in callback <function _enable_matplotlib_integration.<locals>.configure_once at 0x0000021D6934DA80> (for post_run_cell), with arguments args (<ExecutionResult object at 21d6a309ee0, execution_count=79 error_before_exec=None error_in_exec=None info=<ExecutionInfo object at 21d6a308c50, raw_cell=\"print(\"Pesos finales después del entrenamiento:\")\n",
      "..\" store_history=True silent=False shell_futures=True cell_id=vscode-notebook-cell:/c%3A/Users/larit/OneDrive/Documentos/GitHub/IA_chona_Lara_Muina/clase6_simple_nn%20%283%29.ipynb#X20sZmlsZQ%3D%3D> result=None>,),kwargs {}:\n"
     ]
    },
    {
     "ename": "AttributeError",
     "evalue": "module 'matplotlib' has no attribute 'backends'",
     "output_type": "error",
     "traceback": [
      "\u001b[31m---------------------------------------------------------------------------\u001b[39m",
      "\u001b[31mAttributeError\u001b[39m                            Traceback (most recent call last)",
      "\u001b[36mFile \u001b[39m\u001b[32m~\\AppData\\Roaming\\Python\\Python312\\site-packages\\matplotlib_inline\\backend_inline.py:222\u001b[39m, in \u001b[36m_enable_matplotlib_integration.<locals>.configure_once\u001b[39m\u001b[34m(*args)\u001b[39m\n\u001b[32m    221\u001b[39m \u001b[38;5;28;01mdef\u001b[39;00m\u001b[38;5;250m \u001b[39m\u001b[34mconfigure_once\u001b[39m(*args):\n\u001b[32m--> \u001b[39m\u001b[32m222\u001b[39m     \u001b[43mactivate_matplotlib\u001b[49m\u001b[43m(\u001b[49m\u001b[43mbackend\u001b[49m\u001b[43m)\u001b[49m\n\u001b[32m    223\u001b[39m     configure_inline_support(ip, backend)\n\u001b[32m    224\u001b[39m     ip.events.unregister(\u001b[33m'\u001b[39m\u001b[33mpost_run_cell\u001b[39m\u001b[33m'\u001b[39m, configure_once)\n",
      "\u001b[36mFile \u001b[39m\u001b[32m~\\AppData\\Roaming\\Python\\Python312\\site-packages\\IPython\\core\\pylabtools.py:410\u001b[39m, in \u001b[36mactivate_matplotlib\u001b[39m\u001b[34m(backend)\u001b[39m\n\u001b[32m    405\u001b[39m \u001b[38;5;66;03m# Due to circular imports, pyplot may be only partially initialised\u001b[39;00m\n\u001b[32m    406\u001b[39m \u001b[38;5;66;03m# when this function runs.\u001b[39;00m\n\u001b[32m    407\u001b[39m \u001b[38;5;66;03m# So avoid needing matplotlib attribute-lookup to access pyplot.\u001b[39;00m\n\u001b[32m    408\u001b[39m \u001b[38;5;28;01mfrom\u001b[39;00m\u001b[38;5;250m \u001b[39m\u001b[34;01mmatplotlib\u001b[39;00m\u001b[38;5;250m \u001b[39m\u001b[38;5;28;01mimport\u001b[39;00m pyplot \u001b[38;5;28;01mas\u001b[39;00m plt\n\u001b[32m--> \u001b[39m\u001b[32m410\u001b[39m \u001b[43mplt\u001b[49m\u001b[43m.\u001b[49m\u001b[43mswitch_backend\u001b[49m\u001b[43m(\u001b[49m\u001b[43mbackend\u001b[49m\u001b[43m)\u001b[49m\n\u001b[32m    412\u001b[39m plt.show._needmain = \u001b[38;5;28;01mFalse\u001b[39;00m\n\u001b[32m    413\u001b[39m \u001b[38;5;66;03m# We need to detect at runtime whether show() is called by the user.\u001b[39;00m\n\u001b[32m    414\u001b[39m \u001b[38;5;66;03m# For this, we wrap it into a decorator which adds a 'called' flag.\u001b[39;00m\n",
      "\u001b[36mFile \u001b[39m\u001b[32mc:\\Users\\larit\\AppData\\Local\\Programs\\Python\\Python312\\Lib\\site-packages\\matplotlib\\pyplot.py:520\u001b[39m, in \u001b[36mswitch_backend\u001b[39m\u001b[34m(newbackend)\u001b[39m\n\u001b[32m    515\u001b[39m     \u001b[38;5;28mglobals\u001b[39m()[func_name].__signature__ = inspect.signature(\n\u001b[32m    516\u001b[39m         \u001b[38;5;28mgetattr\u001b[39m(backend_mod, func_name))\n\u001b[32m    518\u001b[39m \u001b[38;5;66;03m# Need to keep a global reference to the backend for compatibility reasons.\u001b[39;00m\n\u001b[32m    519\u001b[39m \u001b[38;5;66;03m# See https://github.com/matplotlib/matplotlib/issues/6092\u001b[39;00m\n\u001b[32m--> \u001b[39m\u001b[32m520\u001b[39m \u001b[43mmatplotlib\u001b[49m\u001b[43m.\u001b[49m\u001b[43mbackends\u001b[49m.backend = newbackend  \u001b[38;5;66;03m# type: ignore[attr-defined]\u001b[39;00m\n\u001b[32m    522\u001b[39m \u001b[38;5;66;03m# Make sure the repl display hook is installed in case we become interactive.\u001b[39;00m\n\u001b[32m    523\u001b[39m install_repl_displayhook()\n",
      "\u001b[36mFile \u001b[39m\u001b[32mc:\\Users\\larit\\AppData\\Local\\Programs\\Python\\Python312\\Lib\\site-packages\\matplotlib\\_api\\__init__.py:218\u001b[39m, in \u001b[36mcaching_module_getattr.<locals>.__getattr__\u001b[39m\u001b[34m(name)\u001b[39m\n\u001b[32m    216\u001b[39m \u001b[38;5;28;01mif\u001b[39;00m name \u001b[38;5;129;01min\u001b[39;00m props:\n\u001b[32m    217\u001b[39m     \u001b[38;5;28;01mreturn\u001b[39;00m props[name].\u001b[34m__get__\u001b[39m(instance)\n\u001b[32m--> \u001b[39m\u001b[32m218\u001b[39m \u001b[38;5;28;01mraise\u001b[39;00m \u001b[38;5;167;01mAttributeError\u001b[39;00m(\n\u001b[32m    219\u001b[39m     \u001b[33mf\u001b[39m\u001b[33m\"\u001b[39m\u001b[33mmodule \u001b[39m\u001b[38;5;132;01m{\u001b[39;00m\u001b[38;5;28mcls\u001b[39m.\u001b[34m__module__\u001b[39m\u001b[38;5;132;01m!r}\u001b[39;00m\u001b[33m has no attribute \u001b[39m\u001b[38;5;132;01m{\u001b[39;00mname\u001b[38;5;132;01m!r}\u001b[39;00m\u001b[33m\"\u001b[39m)\n",
      "\u001b[31mAttributeError\u001b[39m: module 'matplotlib' has no attribute 'backends'"
     ]
    }
   ],
   "source": [
    "print(\"Pesos finales después del entrenamiento:\")\n",
    "print(weights)"
   ]
  },
  {
   "cell_type": "markdown",
   "id": "f4ff1df3",
   "metadata": {},
   "source": [
    "Les dejo un código para graficar la red neuronal con los pesos finales."
   ]
  },
  {
   "cell_type": "code",
   "execution_count": 80,
   "id": "fb92baee",
   "metadata": {},
   "outputs": [
    {
     "ename": "ModuleNotFoundError",
     "evalue": "No module named 'networkx'",
     "output_type": "error",
     "traceback": [
      "\u001b[31m---------------------------------------------------------------------------\u001b[39m",
      "\u001b[31mModuleNotFoundError\u001b[39m                       Traceback (most recent call last)",
      "\u001b[36mCell\u001b[39m\u001b[36m \u001b[39m\u001b[32mIn[80]\u001b[39m\u001b[32m, line 2\u001b[39m\n\u001b[32m      1\u001b[39m \u001b[38;5;28;01mimport\u001b[39;00m\u001b[38;5;250m \u001b[39m\u001b[34;01mmatplotlib\u001b[39;00m\u001b[34;01m.\u001b[39;00m\u001b[34;01mpyplot\u001b[39;00m\u001b[38;5;250m \u001b[39m\u001b[38;5;28;01mas\u001b[39;00m\u001b[38;5;250m \u001b[39m\u001b[34;01mplt\u001b[39;00m\n\u001b[32m----> \u001b[39m\u001b[32m2\u001b[39m \u001b[38;5;28;01mimport\u001b[39;00m\u001b[38;5;250m \u001b[39m\u001b[34;01mnetworkx\u001b[39;00m\u001b[38;5;250m \u001b[39m\u001b[38;5;28;01mas\u001b[39;00m\u001b[38;5;250m \u001b[39m\u001b[34;01mnx\u001b[39;00m\n\u001b[32m      3\u001b[39m \u001b[38;5;28;01mimport\u001b[39;00m\u001b[38;5;250m \u001b[39m\u001b[34;01mitertools\u001b[39;00m\n\u001b[32m      4\u001b[39m G = nx.DiGraph()\n",
      "\u001b[31mModuleNotFoundError\u001b[39m: No module named 'networkx'"
     ]
    },
    {
     "ename": "ModuleNotFoundError",
     "evalue": "No module named 'networkx'",
     "output_type": "error",
     "traceback": [
      "\u001b[31m---------------------------------------------------------------------------\u001b[39m",
      "\u001b[31mModuleNotFoundError\u001b[39m                       Traceback (most recent call last)",
      "\u001b[36mCell\u001b[39m\u001b[36m \u001b[39m\u001b[32mIn[80]\u001b[39m\u001b[32m, line 2\u001b[39m\n\u001b[32m      1\u001b[39m \u001b[38;5;28;01mimport\u001b[39;00m\u001b[38;5;250m \u001b[39m\u001b[34;01mmatplotlib\u001b[39;00m\u001b[34;01m.\u001b[39;00m\u001b[34;01mpyplot\u001b[39;00m\u001b[38;5;250m \u001b[39m\u001b[38;5;28;01mas\u001b[39;00m\u001b[38;5;250m \u001b[39m\u001b[34;01mplt\u001b[39;00m\n\u001b[32m----> \u001b[39m\u001b[32m2\u001b[39m \u001b[38;5;28;01mimport\u001b[39;00m\u001b[38;5;250m \u001b[39m\u001b[34;01mnetworkx\u001b[39;00m\u001b[38;5;250m \u001b[39m\u001b[38;5;28;01mas\u001b[39;00m\u001b[38;5;250m \u001b[39m\u001b[34;01mnx\u001b[39;00m\n\u001b[32m      3\u001b[39m \u001b[38;5;28;01mimport\u001b[39;00m\u001b[38;5;250m \u001b[39m\u001b[34;01mitertools\u001b[39;00m\n\u001b[32m      4\u001b[39m G = nx.DiGraph()\n",
      "\u001b[31mModuleNotFoundError\u001b[39m: No module named 'networkx'"
     ]
    },
    {
     "name": "stdout",
     "output_type": "stream",
     "text": [
      "Error in callback <function _enable_matplotlib_integration.<locals>.configure_once at 0x0000021D6934DA80> (for post_run_cell), with arguments args (<ExecutionResult object at 21d6a3b8cb0, execution_count=80 error_before_exec=None error_in_exec=No module named 'networkx' info=<ExecutionInfo object at 21d6a308110, raw_cell=\"import matplotlib.pyplot as plt\n",
      "import networkx as..\" store_history=True silent=False shell_futures=True cell_id=vscode-notebook-cell:/c%3A/Users/larit/OneDrive/Documentos/GitHub/IA_chona_Lara_Muina/clase6_simple_nn%20%283%29.ipynb#X22sZmlsZQ%3D%3D> result=None>,),kwargs {}:\n"
     ]
    },
    {
     "ename": "AttributeError",
     "evalue": "module 'matplotlib' has no attribute 'backends'",
     "output_type": "error",
     "traceback": [
      "\u001b[31m---------------------------------------------------------------------------\u001b[39m",
      "\u001b[31mAttributeError\u001b[39m                            Traceback (most recent call last)",
      "\u001b[36mFile \u001b[39m\u001b[32m~\\AppData\\Roaming\\Python\\Python312\\site-packages\\matplotlib_inline\\backend_inline.py:222\u001b[39m, in \u001b[36m_enable_matplotlib_integration.<locals>.configure_once\u001b[39m\u001b[34m(*args)\u001b[39m\n\u001b[32m    221\u001b[39m \u001b[38;5;28;01mdef\u001b[39;00m\u001b[38;5;250m \u001b[39m\u001b[34mconfigure_once\u001b[39m(*args):\n\u001b[32m--> \u001b[39m\u001b[32m222\u001b[39m     \u001b[43mactivate_matplotlib\u001b[49m\u001b[43m(\u001b[49m\u001b[43mbackend\u001b[49m\u001b[43m)\u001b[49m\n\u001b[32m    223\u001b[39m     configure_inline_support(ip, backend)\n\u001b[32m    224\u001b[39m     ip.events.unregister(\u001b[33m'\u001b[39m\u001b[33mpost_run_cell\u001b[39m\u001b[33m'\u001b[39m, configure_once)\n",
      "\u001b[36mFile \u001b[39m\u001b[32m~\\AppData\\Roaming\\Python\\Python312\\site-packages\\IPython\\core\\pylabtools.py:410\u001b[39m, in \u001b[36mactivate_matplotlib\u001b[39m\u001b[34m(backend)\u001b[39m\n\u001b[32m    405\u001b[39m \u001b[38;5;66;03m# Due to circular imports, pyplot may be only partially initialised\u001b[39;00m\n\u001b[32m    406\u001b[39m \u001b[38;5;66;03m# when this function runs.\u001b[39;00m\n\u001b[32m    407\u001b[39m \u001b[38;5;66;03m# So avoid needing matplotlib attribute-lookup to access pyplot.\u001b[39;00m\n\u001b[32m    408\u001b[39m \u001b[38;5;28;01mfrom\u001b[39;00m\u001b[38;5;250m \u001b[39m\u001b[34;01mmatplotlib\u001b[39;00m\u001b[38;5;250m \u001b[39m\u001b[38;5;28;01mimport\u001b[39;00m pyplot \u001b[38;5;28;01mas\u001b[39;00m plt\n\u001b[32m--> \u001b[39m\u001b[32m410\u001b[39m \u001b[43mplt\u001b[49m\u001b[43m.\u001b[49m\u001b[43mswitch_backend\u001b[49m\u001b[43m(\u001b[49m\u001b[43mbackend\u001b[49m\u001b[43m)\u001b[49m\n\u001b[32m    412\u001b[39m plt.show._needmain = \u001b[38;5;28;01mFalse\u001b[39;00m\n\u001b[32m    413\u001b[39m \u001b[38;5;66;03m# We need to detect at runtime whether show() is called by the user.\u001b[39;00m\n\u001b[32m    414\u001b[39m \u001b[38;5;66;03m# For this, we wrap it into a decorator which adds a 'called' flag.\u001b[39;00m\n",
      "\u001b[36mFile \u001b[39m\u001b[32mc:\\Users\\larit\\AppData\\Local\\Programs\\Python\\Python312\\Lib\\site-packages\\matplotlib\\pyplot.py:520\u001b[39m, in \u001b[36mswitch_backend\u001b[39m\u001b[34m(newbackend)\u001b[39m\n\u001b[32m    515\u001b[39m     \u001b[38;5;28mglobals\u001b[39m()[func_name].__signature__ = inspect.signature(\n\u001b[32m    516\u001b[39m         \u001b[38;5;28mgetattr\u001b[39m(backend_mod, func_name))\n\u001b[32m    518\u001b[39m \u001b[38;5;66;03m# Need to keep a global reference to the backend for compatibility reasons.\u001b[39;00m\n\u001b[32m    519\u001b[39m \u001b[38;5;66;03m# See https://github.com/matplotlib/matplotlib/issues/6092\u001b[39;00m\n\u001b[32m--> \u001b[39m\u001b[32m520\u001b[39m \u001b[43mmatplotlib\u001b[49m\u001b[43m.\u001b[49m\u001b[43mbackends\u001b[49m.backend = newbackend  \u001b[38;5;66;03m# type: ignore[attr-defined]\u001b[39;00m\n\u001b[32m    522\u001b[39m \u001b[38;5;66;03m# Make sure the repl display hook is installed in case we become interactive.\u001b[39;00m\n\u001b[32m    523\u001b[39m install_repl_displayhook()\n",
      "\u001b[36mFile \u001b[39m\u001b[32mc:\\Users\\larit\\AppData\\Local\\Programs\\Python\\Python312\\Lib\\site-packages\\matplotlib\\_api\\__init__.py:218\u001b[39m, in \u001b[36mcaching_module_getattr.<locals>.__getattr__\u001b[39m\u001b[34m(name)\u001b[39m\n\u001b[32m    216\u001b[39m \u001b[38;5;28;01mif\u001b[39;00m name \u001b[38;5;129;01min\u001b[39;00m props:\n\u001b[32m    217\u001b[39m     \u001b[38;5;28;01mreturn\u001b[39;00m props[name].\u001b[34m__get__\u001b[39m(instance)\n\u001b[32m--> \u001b[39m\u001b[32m218\u001b[39m \u001b[38;5;28;01mraise\u001b[39;00m \u001b[38;5;167;01mAttributeError\u001b[39;00m(\n\u001b[32m    219\u001b[39m     \u001b[33mf\u001b[39m\u001b[33m\"\u001b[39m\u001b[33mmodule \u001b[39m\u001b[38;5;132;01m{\u001b[39;00m\u001b[38;5;28mcls\u001b[39m.\u001b[34m__module__\u001b[39m\u001b[38;5;132;01m!r}\u001b[39;00m\u001b[33m has no attribute \u001b[39m\u001b[38;5;132;01m{\u001b[39;00mname\u001b[38;5;132;01m!r}\u001b[39;00m\u001b[33m\"\u001b[39m)\n",
      "\u001b[31mAttributeError\u001b[39m: module 'matplotlib' has no attribute 'backends'"
     ]
    }
   ],
   "source": [
    "import matplotlib.pyplot as plt\n",
    "import networkx as nx\n",
    "import itertools\n",
    "G = nx.DiGraph()\n",
    "layers = [[0, 1, 2], [3]]\n",
    "\n",
    "rels = list(itertools.product(*layers))\n",
    "#rels.append((3, 4))\n",
    "flatten = lambda l: [x for i in l for x in i]\n",
    "\n",
    "labels = {i: v for i, v in enumerate(X[1])}\n",
    "labels[3] = round(forward_prop(X[1], weights)[0], 3)\n",
    "#labels[4] = 0 if res < thresh else 1\n",
    "\n",
    "pos = {}\n",
    "m = max([len(l) for l in layers])\n",
    "for i, l in enumerate(layers):\n",
    "  for j, v in enumerate(l):\n",
    "    pos[v] = (i, len(l) - j)\n",
    "\n",
    "pos[3] = (pos[3][0], pos[1][1])\n",
    "#pos[4] = (pos[3][0] + 1, pos[1][1])\n",
    "\n",
    "weights_labels = {(ra, rb): \"{:0.3f}\".format(weights[i][0]) for i, (ra, rb) in enumerate(rels)}\n",
    "G.add_edges_from(rels)\n",
    "\n",
    "options = {\n",
    "    \"font_size\": 16,\n",
    "    \"node_size\": 3000,\n",
    "    \"node_color\": [(1, 1, 1, 1) for _ in range(len(labels))],\n",
    "    \"edgecolors\": \"black\",\n",
    "    \"linewidths\": 3,\n",
    "    \"width\": 3,\n",
    "    \"labels\": labels,\n",
    "    \"connectionstyle\": \"arc3, rad=0\",\n",
    "}\n",
    "\n",
    "nx.draw_networkx(G, pos, **options)\n",
    "\n",
    "nx.draw_networkx_edge_labels(\n",
    "    G, pos,\n",
    "    edge_labels=weights_labels,\n",
    "    font_color='black',\n",
    "    font_size=16, \n",
    "    font_weight='bold'\n",
    ")\n",
    "\n",
    "plt.axis('off')\n",
    "ax = plt.gca()\n",
    "ax.margins(0.20)\n",
    "plt.show()"
   ]
  },
  {
   "cell_type": "markdown",
   "id": "dc3cabd8",
   "metadata": {},
   "source": [
    "**Última consigna**: Prueben algunos ejemplos nuevos, que no estén en el dataset original, y vean qué predice la red neuronal "
   ]
  },
  {
   "cell_type": "code",
   "execution_count": 81,
   "id": "4d4dba20",
   "metadata": {},
   "outputs": [
    {
     "name": "stdout",
     "output_type": "stream",
     "text": [
      " Probando la red neuronal con ejemplos nuevos:\n",
      "==================================================\n",
      "Entrada    -> Predicción | Interpretación\n",
      "--------------------------------------------------\n",
      "[1, 1, 0] -> 0.9998    | Clase 1 \n",
      "[0, 0, 0] -> 0.5000    | Clase 0 \n",
      "[1, 0, 0] -> 0.9999    | Clase 1 \n",
      "[0, 1, 0] -> 0.4475    | Clase 0 \n",
      "\n",
      "Análisis:\n",
      "La red neuronal aprendió a clasificar según el patrón en los datos originales.\n",
      "Compara estos resultados con los datos de entrenamiento para entender el patrón.\n",
      "Error in callback <function _enable_matplotlib_integration.<locals>.configure_once at 0x0000021D6934DA80> (for post_run_cell), with arguments args (<ExecutionResult object at 21d6a3d8380, execution_count=81 error_before_exec=None error_in_exec=None info=<ExecutionInfo object at 21d6a3d8530, raw_cell=\"# ¡Probemos la red con ejemplos nuevos!\n",
      "print(\" Pr..\" store_history=True silent=False shell_futures=True cell_id=vscode-notebook-cell:/c%3A/Users/larit/OneDrive/Documentos/GitHub/IA_chona_Lara_Muina/clase6_simple_nn%20%283%29.ipynb#X33sZmlsZQ%3D%3D> result=None>,),kwargs {}:\n"
     ]
    },
    {
     "ename": "AttributeError",
     "evalue": "module 'matplotlib' has no attribute 'backends'",
     "output_type": "error",
     "traceback": [
      "\u001b[31m---------------------------------------------------------------------------\u001b[39m",
      "\u001b[31mAttributeError\u001b[39m                            Traceback (most recent call last)",
      "\u001b[36mFile \u001b[39m\u001b[32m~\\AppData\\Roaming\\Python\\Python312\\site-packages\\matplotlib_inline\\backend_inline.py:222\u001b[39m, in \u001b[36m_enable_matplotlib_integration.<locals>.configure_once\u001b[39m\u001b[34m(*args)\u001b[39m\n\u001b[32m    221\u001b[39m \u001b[38;5;28;01mdef\u001b[39;00m\u001b[38;5;250m \u001b[39m\u001b[34mconfigure_once\u001b[39m(*args):\n\u001b[32m--> \u001b[39m\u001b[32m222\u001b[39m     \u001b[43mactivate_matplotlib\u001b[49m\u001b[43m(\u001b[49m\u001b[43mbackend\u001b[49m\u001b[43m)\u001b[49m\n\u001b[32m    223\u001b[39m     configure_inline_support(ip, backend)\n\u001b[32m    224\u001b[39m     ip.events.unregister(\u001b[33m'\u001b[39m\u001b[33mpost_run_cell\u001b[39m\u001b[33m'\u001b[39m, configure_once)\n",
      "\u001b[36mFile \u001b[39m\u001b[32m~\\AppData\\Roaming\\Python\\Python312\\site-packages\\IPython\\core\\pylabtools.py:410\u001b[39m, in \u001b[36mactivate_matplotlib\u001b[39m\u001b[34m(backend)\u001b[39m\n\u001b[32m    405\u001b[39m \u001b[38;5;66;03m# Due to circular imports, pyplot may be only partially initialised\u001b[39;00m\n\u001b[32m    406\u001b[39m \u001b[38;5;66;03m# when this function runs.\u001b[39;00m\n\u001b[32m    407\u001b[39m \u001b[38;5;66;03m# So avoid needing matplotlib attribute-lookup to access pyplot.\u001b[39;00m\n\u001b[32m    408\u001b[39m \u001b[38;5;28;01mfrom\u001b[39;00m\u001b[38;5;250m \u001b[39m\u001b[34;01mmatplotlib\u001b[39;00m\u001b[38;5;250m \u001b[39m\u001b[38;5;28;01mimport\u001b[39;00m pyplot \u001b[38;5;28;01mas\u001b[39;00m plt\n\u001b[32m--> \u001b[39m\u001b[32m410\u001b[39m \u001b[43mplt\u001b[49m\u001b[43m.\u001b[49m\u001b[43mswitch_backend\u001b[49m\u001b[43m(\u001b[49m\u001b[43mbackend\u001b[49m\u001b[43m)\u001b[49m\n\u001b[32m    412\u001b[39m plt.show._needmain = \u001b[38;5;28;01mFalse\u001b[39;00m\n\u001b[32m    413\u001b[39m \u001b[38;5;66;03m# We need to detect at runtime whether show() is called by the user.\u001b[39;00m\n\u001b[32m    414\u001b[39m \u001b[38;5;66;03m# For this, we wrap it into a decorator which adds a 'called' flag.\u001b[39;00m\n",
      "\u001b[36mFile \u001b[39m\u001b[32mc:\\Users\\larit\\AppData\\Local\\Programs\\Python\\Python312\\Lib\\site-packages\\matplotlib\\pyplot.py:520\u001b[39m, in \u001b[36mswitch_backend\u001b[39m\u001b[34m(newbackend)\u001b[39m\n\u001b[32m    515\u001b[39m     \u001b[38;5;28mglobals\u001b[39m()[func_name].__signature__ = inspect.signature(\n\u001b[32m    516\u001b[39m         \u001b[38;5;28mgetattr\u001b[39m(backend_mod, func_name))\n\u001b[32m    518\u001b[39m \u001b[38;5;66;03m# Need to keep a global reference to the backend for compatibility reasons.\u001b[39;00m\n\u001b[32m    519\u001b[39m \u001b[38;5;66;03m# See https://github.com/matplotlib/matplotlib/issues/6092\u001b[39;00m\n\u001b[32m--> \u001b[39m\u001b[32m520\u001b[39m \u001b[43mmatplotlib\u001b[49m\u001b[43m.\u001b[49m\u001b[43mbackends\u001b[49m.backend = newbackend  \u001b[38;5;66;03m# type: ignore[attr-defined]\u001b[39;00m\n\u001b[32m    522\u001b[39m \u001b[38;5;66;03m# Make sure the repl display hook is installed in case we become interactive.\u001b[39;00m\n\u001b[32m    523\u001b[39m install_repl_displayhook()\n",
      "\u001b[36mFile \u001b[39m\u001b[32mc:\\Users\\larit\\AppData\\Local\\Programs\\Python\\Python312\\Lib\\site-packages\\matplotlib\\_api\\__init__.py:218\u001b[39m, in \u001b[36mcaching_module_getattr.<locals>.__getattr__\u001b[39m\u001b[34m(name)\u001b[39m\n\u001b[32m    216\u001b[39m \u001b[38;5;28;01mif\u001b[39;00m name \u001b[38;5;129;01min\u001b[39;00m props:\n\u001b[32m    217\u001b[39m     \u001b[38;5;28;01mreturn\u001b[39;00m props[name].\u001b[34m__get__\u001b[39m(instance)\n\u001b[32m--> \u001b[39m\u001b[32m218\u001b[39m \u001b[38;5;28;01mraise\u001b[39;00m \u001b[38;5;167;01mAttributeError\u001b[39;00m(\n\u001b[32m    219\u001b[39m     \u001b[33mf\u001b[39m\u001b[33m\"\u001b[39m\u001b[33mmodule \u001b[39m\u001b[38;5;132;01m{\u001b[39;00m\u001b[38;5;28mcls\u001b[39m.\u001b[34m__module__\u001b[39m\u001b[38;5;132;01m!r}\u001b[39;00m\u001b[33m has no attribute \u001b[39m\u001b[38;5;132;01m{\u001b[39;00mname\u001b[38;5;132;01m!r}\u001b[39;00m\u001b[33m\"\u001b[39m)\n",
      "\u001b[31mAttributeError\u001b[39m: module 'matplotlib' has no attribute 'backends'"
     ]
    }
   ],
   "source": [
    "# ¡Probemos la red con ejemplos nuevos!\n",
    "print(\" Probando la red neuronal con ejemplos nuevos:\")\n",
    "print(\"=\" * 50)\n",
    "\n",
    "# Ejemplos nuevos que no están en el dataset original\n",
    "ejemplos_nuevos = [\n",
    "    [1, 1, 0],  # Ejemplo 1\n",
    "    [0, 0, 0],  # Ejemplo 2  \n",
    "    [1, 0, 0],  # Ejemplo 3\n",
    "    [0, 1, 0],  # Ejemplo 4\n",
    "]\n",
    "\n",
    "print(\"Entrada    -> Predicción | Interpretación\")\n",
    "print(\"-\" * 50)\n",
    "\n",
    "for ejemplo in ejemplos_nuevos:\n",
    "    # Convertir a numpy array y hacer predicción\n",
    "    entrada = np.array([ejemplo])\n",
    "    prediccion = forward_prop(entrada, weights)[0][0]\n",
    "    \n",
    "    # Interpretar el resultado\n",
    "    if prediccion > 0.5:\n",
    "        interpretacion = \"Clase 1 \"\n",
    "    else:\n",
    "        interpretacion = \"Clase 0 \"\n",
    "    \n",
    "    print(f\"{ejemplo} -> {prediccion:.4f}    | {interpretacion}\")\n",
    "\n",
    "print(\"\\nAnálisis:\")\n",
    "print(\"La red neuronal aprendió a clasificar según el patrón en los datos originales.\")\n",
    "print(\"Compara estos resultados con los datos de entrenamiento para entender el patrón.\")"
   ]
  }
 ],
 "metadata": {
  "kernelspec": {
   "display_name": "Python 3",
   "language": "python",
   "name": "python3"
  },
  "language_info": {
   "codemirror_mode": {
    "name": "ipython",
    "version": 3
   },
   "file_extension": ".py",
   "mimetype": "text/x-python",
   "name": "python",
   "nbconvert_exporter": "python",
   "pygments_lexer": "ipython3",
   "version": "3.12.2"
  }
 },
 "nbformat": 4,
 "nbformat_minor": 5
}
